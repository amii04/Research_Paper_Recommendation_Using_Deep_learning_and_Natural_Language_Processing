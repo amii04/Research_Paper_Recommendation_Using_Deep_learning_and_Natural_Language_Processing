{
 "cells": [
  {
   "cell_type": "markdown",
   "id": "118cec97",
   "metadata": {},
   "source": [
    "# 1 Section:Research Area Prediction (Large Scale classification): Using shallow Multi-Layer Perceptron (MLP) model\n",
    "                                                                 \n",
    "\n",
    "# 2 Section:Research Paper Recommendation for reading: Using sentence transformer model\n",
    "\n",
    "\n"
   ]
  },
  {
   "cell_type": "markdown",
   "id": "2b7cb120",
   "metadata": {},
   "source": [
    "## 1 Section:                                                                 "
   ]
  },
  {
   "cell_type": "markdown",
   "id": "5adda69d",
   "metadata": {},
   "source": [
    "## Loading tools and dataset"
   ]
  },
  {
   "cell_type": "code",
   "execution_count": 1,
   "id": "a0cb9160",
   "metadata": {},
   "outputs": [
    {
     "name": "stdout",
     "output_type": "stream",
     "text": [
      "WARNING:tensorflow:From c:\\Users\\AmiMistry\\anaconda3\\Lib\\site-packages\\keras\\src\\losses.py:2976: The name tf.losses.sparse_softmax_cross_entropy is deprecated. Please use tf.compat.v1.losses.sparse_softmax_cross_entropy instead.\n",
      "\n"
     ]
    }
   ],
   "source": [
    "from tensorflow.keras import layers\n",
    "from tensorflow import keras\n",
    "import tensorflow as tf\n",
    "\n",
    "from sklearn.model_selection import train_test_split\n",
    "\n",
    "from ast import literal_eval\n",
    "# is used for safely evaluating strings containing Python literals or container displays\n",
    "# (e.g., lists, dictionaries) to their corresponding Python objects.\n",
    "\n",
    "import matplotlib.pyplot as plt\n",
    "import pandas as pd\n",
    "import numpy as np"
   ]
  },
  {
   "cell_type": "code",
   "execution_count": 2,
   "id": "130dc39f",
   "metadata": {},
   "outputs": [],
   "source": [
    "arxiv_data = pd.read_csv(\"C:/Users/AmiMistry/OneDrive/Desktop/SUMMER_INTERNSHIP/Dataset/arxiv_data_210930-054931.csv\")"
   ]
  },
  {
   "cell_type": "code",
   "execution_count": 51,
   "id": "b4f201fd",
   "metadata": {},
   "outputs": [
    {
     "name": "stdout",
     "output_type": "stream",
     "text": [
      "                                             terms  \\\n",
      "0                                        ['cs.LG']   \n",
      "1                               ['cs.LG', 'cs.AI']   \n",
      "2                    ['cs.LG', 'cs.CR', 'stat.ML']   \n",
      "3                               ['cs.LG', 'cs.CR']   \n",
      "4                                        ['cs.LG']   \n",
      "...                                            ...   \n",
      "41100                                  ['stat.ML']   \n",
      "41101                         ['stat.ML', 'cs.LG']   \n",
      "41102                           ['cs.CV', 'cs.IR']   \n",
      "41103  ['cs.LG', 'cs.AI', 'cs.CL', 'I.2.6; I.2.7']   \n",
      "41104              ['stat.ML', 'cs.LG', 'math.OC']   \n",
      "\n",
      "                                                                                                                 titles  \\\n",
      "0      Multi-Level Attention Pooling for Graph Neural Networks: Unifying Graph Representations with Multiple Localities   \n",
      "1           Decision Forests vs. Deep Networks: Conceptual Similarities and Empirical Differences at Small Sample Sizes   \n",
      "2                                                       Power up! Robust Graph Convolutional Network via Graph Powering   \n",
      "3                                                  Releasing Graph Neural Networks with Differential Privacy Guarantees   \n",
      "4                                   Recurrence-Aware Long-Term Cognitive Network for Explainable Pattern Classification   \n",
      "...                                                                                                                 ...   \n",
      "41100              An experimental study of graph-based semi-supervised classification with additional node information   \n",
      "41101                                                          Bayesian Differential Privacy through Posterior Sampling   \n",
      "41102                                       Mining Spatio-temporal Data on Industrialization from Historical Registries   \n",
      "41103                                                 Wav2Letter: an End-to-End ConvNet-based Speech Recognition System   \n",
      "41104                                                                                       Generalized Low Rank Models   \n",
      "\n",
      "                                                                                                                                                                                                                                                                                                                                                                                                                                                                                                                                                                                                                                                                                                                                                                                                                                                                                                                                                                                                                                                                                                                                                                                                                                                                                                                                                                                                                                                                                                                                                                                                                                                                                                                                                                              abstracts  \n",
      "0      Graph neural networks (GNNs) have been widely used to learn vector\\nrepresentation of graph-structured data and achieved better task performance\\nthan conventional methods. The foundation of GNNs is the message passing\\nprocedure, which propagates the information in a node to its neighbors. Since\\nthis procedure proceeds one step per layer, the range of the information\\npropagation among nodes is small in the lower layers, and it expands toward the\\nhigher layers. Therefore, a GNN model has to be deep enough to capture global\\nstructural information in a graph. On the other hand, it is known that deep GNN\\nmodels suffer from performance degradation because they lose nodes' local\\ninformation, which would be essential for good model performance, through many\\nmessage passing steps. In this study, we propose multi-level attention pooling\\n(MLAP) for graph-level classification tasks, which can adapt to both local and\\nglobal structural information in a graph. It has an attention pooling layer for\\neach message passing step and computes the final graph representation by\\nunifying the layer-wise graph representations. The MLAP architecture allows\\nmodels to utilize the structural information of graphs with multiple levels of\\nlocalities because it preserves layer-wise information before losing them due\\nto oversmoothing. Results of our experiments show that the MLAP architecture\\nimproves the graph classification performance compared to the baseline\\narchitectures. In addition, analyses on the layer-wise graph representations\\nsuggest that aggregating information from multiple levels of localities indeed\\nhas the potential to improve the discriminability of learned graph\\nrepresentations.  \n",
      "1                                                                                                                                                                  Deep networks and decision forests (such as random forests and gradient\\nboosted trees) are the leading machine learning methods for structured and\\ntabular data, respectively. Many papers have empirically compared large numbers\\nof classifiers on one or two different domains (e.g., on 100 different tabular\\ndata settings). However, a careful conceptual and empirical comparison of these\\ntwo strategies using the most contemporary best practices has yet to be\\nperformed. Conceptually, we illustrate that both can be profitably viewed as\\n\"partition and vote\" schemes. Specifically, the representation space that they\\nboth learn is a partitioning of feature space into a union of convex polytopes.\\nFor inference, each decides on the basis of votes from the activated nodes.\\nThis formulation allows for a unified basic understanding of the relationship\\nbetween these methods. Empirically, we compare these two strategies on hundreds\\nof tabular data settings, as well as several vision and auditory settings. Our\\nfocus is on datasets with at most 10,000 samples, which represent a large\\nfraction of scientific and biomedical datasets. In general, we found forests to\\nexcel at tabular and structured data (vision and audition) with small sample\\nsizes, whereas deep nets performed better on structured data with larger sample\\nsizes. This suggests that further gains in both scenarios may be realized via\\nfurther combining aspects of forests and networks. We will continue revising\\nthis technical report in the coming months with updated results.  \n",
      "2                                                                                                                                                                                                                                                                                                                                                                                                                                                                                                                                                                                                                                                                                                                                                                                                                                                                                                                Graph convolutional networks (GCNs) are powerful tools for graph-structured\\ndata. However, they have been recently shown to be vulnerable to topological\\nattacks. To enhance adversarial robustness, we go beyond spectral graph theory\\nto robust graph theory. By challenging the classical graph Laplacian, we\\npropose a new convolution operator that is provably robust in the spectral\\ndomain and is incorporated in the GCN architecture to improve expressivity and\\ninterpretability. By extending the original graph to a sequence of graphs, we\\nalso propose a robust training paradigm that encourages transferability across\\ngraphs that span a range of spatial and spectral characteristics. The proposed\\napproaches are demonstrated in extensive experiments to simultaneously improve\\nperformance in both benign and adversarial situations.  \n",
      "3                                                                                                                                                                                                                        With the increasing popularity of Graph Neural Networks (GNNs) in several\\nsensitive applications like healthcare and medicine, concerns have been raised\\nover the privacy aspects of trained GNNs. More notably, GNNs are vulnerable to\\nprivacy attacks, such as membership inference attacks, even if only blackbox\\naccess to the trained model is granted. To build defenses, differential privacy\\nhas emerged as a mechanism to disguise the sensitive data in training datasets.\\nFollowing the strategy of Private Aggregation of Teacher Ensembles (PATE),\\nrecent methods leverage a large ensemble of teacher models. These teachers are\\ntrained on disjoint subsets of private data and are employed to transfer\\nknowledge to a student model, which is then released with privacy guarantees.\\nHowever, splitting graph data into many disjoint training sets may destroy the\\nstructural information and adversely affect accuracy. We propose a new\\ngraph-specific scheme of releasing a student GNN, which avoids splitting\\nprivate training data altogether. The student GNN is trained using public data,\\npartly labeled privately using the teacher GNN models trained exclusively for\\neach query node. We theoretically analyze our approach in the R\\`{e}nyi\\ndifferential privacy framework and provide privacy guarantees. Besides, we show\\nthe solid experimental performance of our method compared to several baselines,\\nincluding the PATE baseline adapted for graph-structured data. Our anonymized\\ncode is available.  \n",
      "4                                                                                                                                                                                                                                               Machine learning solutions for pattern classification problems are nowadays\\nwidely deployed in society and industry. However, the lack of transparency and\\naccountability of most accurate models often hinders their safe use. Thus,\\nthere is a clear need for developing explainable artificial intelligence\\nmechanisms. There exist model-agnostic methods that summarize feature\\ncontributions, but their interpretability is limited to predictions made by\\nblack-box models. An open challenge is to develop models that have intrinsic\\ninterpretability and produce their own explanations, even for classes of models\\nthat are traditionally considered black boxes like (recurrent) neural networks.\\nIn this paper, we propose a Long-Term Cognitive Network for interpretable\\npattern classification of structured data. Our method brings its own mechanism\\nfor providing explanations by quantifying the relevance of each feature in the\\ndecision process. For supporting the interpretability without affecting the\\nperformance, the model incorporates more flexibility through a quasi-nonlinear\\nreasoning rule that allows controlling nonlinearity. Besides, we propose a\\nrecurrence-aware decision model that evades the issues posed by unique fixed\\npoints while introducing a deterministic learning method to compute the tunable\\nparameters. The simulations show that our interpretable model obtains\\ncompetitive results when compared to the state-of-the-art white and black-box\\nmodels.  \n",
      "...                                                                                                                                                                                                                                                                                                                                                                                                                                                                                                                                                                                                                                                                                                                                                                                                                                                                                                                                                                                                                                                                                                                                                                                                                                                                                                                                                                                                                                                                                                                                                                                                                                                                                                                                                                                 ...  \n",
      "41100                                                                                                                                                                                                                                                                                                                                The volume of data generated by internet and social networks is increasing\\nevery day, and there is a clear need for efficient ways of extracting useful\\ninformation from them. As those data can take different forms, it is important\\nto use all the available data representations for prediction.\\n  In this paper, we focus our attention on supervised classification using both\\nregular plain, tabular, data and structural information coming from a network\\nstructure. 14 techniques are investigated and compared in this study and can be\\ndivided in three classes: the first one uses only the plain data to build a\\nclassification model, the second uses only the graph structure and the last\\nuses both information sources. The relative performances in these three cases\\nare investigated. Furthermore, the effect of using a graph embedding and\\nwell-known indicators in spatial statistics is also studied.\\n  Possible applications are automatic classification of web pages or other\\nlinked documents, of people in a social network or of proteins in a biological\\ncomplex system, to name a few.\\n  Based on our comparison, we draw some general conclusions and advices to\\ntackle this particular classification task: some datasets can be better\\nexplained by their graph structure (graph-driven), or by their feature set\\n(features-driven). The most efficient methods are discussed in both cases.  \n",
      "41101                                                                                                                                                                                                                                                                                                                                                                                                                                                                                                Differential privacy formalises privacy-preserving mechanisms that provide\\naccess to a database. We pose the question of whether Bayesian inference itself\\ncan be used directly to provide private access to data, with no modification.\\nThe answer is affirmative: under certain conditions on the prior, sampling from\\nthe posterior distribution can be used to achieve a desired level of privacy\\nand utility. To do so, we generalise differential privacy to arbitrary dataset\\nmetrics, outcome spaces and distribution families. This allows us to also deal\\nwith non-i.i.d or non-tabular datasets. We prove bounds on the sensitivity of\\nthe posterior to the data, which gives a measure of robustness. We also show\\nhow to use posterior sampling to provide differentially private responses to\\nqueries, within a decision-theoretic framework. Finally, we provide bounds on\\nthe utility and on the distinguishability of datasets. The latter are\\ncomplemented by a novel use of Le Cam's method to obtain lower bounds. All our\\ngeneral results hold for arbitrary database metrics, including those for the\\ncommon definition of differential privacy. For specific choices of the metric,\\nwe give a number of examples satisfying our assumptions.  \n",
      "41102                                                                                                                                                                                                                                                                                                                                                                                                                                                                                                                                                                                                                         Despite the growing availability of big data in many fields, historical data\\non socioevironmental phenomena are often not available due to a lack of\\nautomated and scalable approaches for collecting, digitizing, and assembling\\nthem. We have developed a data-mining method for extracting tabulated, geocoded\\ndata from printed directories. While scanning and optical character recognition\\n(OCR) can digitize printed text, these methods alone do not capture the\\nstructure of the underlying data. Our pipeline integrates both page layout\\nanalysis and OCR to extract tabular, geocoded data from structured text. We\\ndemonstrate the utility of this method by applying it to scanned manufacturing\\nregistries from Rhode Island that record 41 years of industrial land use. The\\nresulting spatio-temporal data can be used for socioenvironmental analyses of\\nindustrialization at a resolution that was not previously possible. In\\nparticular, we find strong evidence for the dispersion of manufacturing from\\nthe urban core of Providence, the state's capital, along the Interstate 95\\ncorridor to the north and south.  \n",
      "41103                                                                                                                                                                                                                                                                                                                                                                                                                                                                                                                                                                                                                                                                                                                                                                                                                                                                                                                                                                                                                                                                                                                                                                                                                  This paper presents a simple end-to-end model for speech recognition,\\ncombining a convolutional network based acoustic model and a graph decoding. It\\nis trained to output letters, with transcribed speech, without the need for\\nforce alignment of phonemes. We introduce an automatic segmentation criterion\\nfor training from sequence annotation without alignment that is on par with CTC\\nwhile being simpler. We show competitive results in word error rate on the\\nLibrispeech corpus with MFCC features, and promising results from raw waveform.  \n",
      "41104                                                                                                                                                                                                                                                                                                                                                                                                                                                                                                                                                                                                                                                                                                                                                                                                                         Principal components analysis (PCA) is a well-known technique for\\napproximating a tabular data set by a low rank matrix. Here, we extend the idea\\nof PCA to handle arbitrary data sets consisting of numerical, Boolean,\\ncategorical, ordinal, and other data types. This framework encompasses many\\nwell known techniques in data analysis, such as nonnegative matrix\\nfactorization, matrix completion, sparse and robust PCA, $k$-means, $k$-SVD,\\nand maximum margin matrix factorization. The method handles heterogeneous data\\nsets, and leads to coherent schemes for compressing, denoising, and imputing\\nmissing entries across all data types simultaneously. It also admits a number\\nof interesting interpretations of the low rank factors, which allow clustering\\nof examples or of features. We propose several parallel algorithms for fitting\\ngeneralized low rank models, and describe implementations and numerical\\nresults.  \n",
      "\n",
      "[41105 rows x 3 columns]\n",
      "                                                                            terms  \\\n",
      "0                                                                       ['cs.LG']   \n",
      "1                                                              ['cs.LG', 'cs.AI']   \n",
      "2                                                   ['cs.LG', 'cs.CR', 'stat.ML']   \n",
      "3                                                              ['cs.LG', 'cs.CR']   \n",
      "4                                                                       ['cs.LG']   \n",
      "5                                                            ['cs.LG', 'stat.ML']   \n",
      "6                                                                       ['cs.LG']   \n",
      "7                                                            ['cs.LG', 'stat.ML']   \n",
      "8                                                                       ['cs.LG']   \n",
      "9                                                              ['cs.LG', 'cs.AI']   \n",
      "10                                                                      ['cs.LG']   \n",
      "11                                                    ['cs.LG', 'cs.AI', 'cs.DC']   \n",
      "12                                                                      ['cs.LG']   \n",
      "13                               ['cs.LG', 'cs.IT', 'math.IT', 'physics.data-an']   \n",
      "14                                                                      ['cs.LG']   \n",
      "15                                                    ['cs.LG', 'cs.AI', 'cs.SI']   \n",
      "16                                                    ['cs.LG', 'cs.AI', 'cs.DS']   \n",
      "17                                                    ['cs.LG', '68T30', 'I.5.4']   \n",
      "18                                                                      ['cs.LG']   \n",
      "19                                                                      ['cs.LG']   \n",
      "20                                      ['cs.LG', 'cs.CG', 'q-bio.QM', 'stat.ML']   \n",
      "21                                                                      ['cs.LG']   \n",
      "22                                                                      ['cs.LG']   \n",
      "23                                                                      ['cs.LG']   \n",
      "24                                                                      ['cs.LG']   \n",
      "25                                                                      ['cs.LG']   \n",
      "26                                                             ['cs.CV', 'cs.CL']   \n",
      "27                                                  ['cs.LG', 'cs.CR', 'stat.ML']   \n",
      "28                                                             ['cs.CV', 'cs.LG']   \n",
      "29                                                                      ['cs.LG']   \n",
      "30                                                             ['cs.LG', 'cs.AI']   \n",
      "31                                                  ['cs.LG', 'stat.ML', '68T05']   \n",
      "32                                                             ['cs.LG', 'cs.DC']   \n",
      "33                                                             ['cs.LG', 'cs.AI']   \n",
      "34                  ['cs.LG', 'cond-mat.dis-nn', 'cond-mat.stat-mech', 'stat.ML']   \n",
      "35                                                                      ['cs.CV']   \n",
      "36                                                  ['cs.LG', 'cs.DC', 'stat.ML']   \n",
      "37                                                                      ['cs.LG']   \n",
      "38                                                                      ['cs.LG']   \n",
      "39                                                             ['cs.LG', 'cs.SI']   \n",
      "40                                                  ['cs.LG', 'cs.SD', 'eess.AS']   \n",
      "41                                                             ['cs.LG', 'cs.AI']   \n",
      "42                                                                      ['cs.LG']   \n",
      "43                                                             ['cs.LG', 'cs.AI']   \n",
      "44                                         ['cs.LG', 'cs.IR', 'stat.ML', 'I.2.6']   \n",
      "45                                                             ['cs.LG', 'cs.AI']   \n",
      "46                                                  ['cs.LG', 'cs.SY', 'eess.SY']   \n",
      "47                                                                      ['cs.LG']   \n",
      "48  ['cs.CV', '68T45 (Primary) 68T10, 68T07 (Secondary)', 'I.4.9; I.5.4; I.2.10']   \n",
      "49                                                                      ['cs.LG']   \n",
      "\n",
      "                                                                                                              titles  \\\n",
      "0   Multi-Level Attention Pooling for Graph Neural Networks: Unifying Graph Representations with Multiple Localities   \n",
      "1        Decision Forests vs. Deep Networks: Conceptual Similarities and Empirical Differences at Small Sample Sizes   \n",
      "2                                                    Power up! Robust Graph Convolutional Network via Graph Powering   \n",
      "3                                               Releasing Graph Neural Networks with Differential Privacy Guarantees   \n",
      "4                                Recurrence-Aware Long-Term Cognitive Network for Explainable Pattern Classification   \n",
      "5                                                                                            Lifelong Graph Learning   \n",
      "6                                                     Bayesian graph convolutional neural networks via tempered MCMC   \n",
      "7                                Understanding and Resolving Performance Degradation in Graph Convolutional Networks   \n",
      "8                                      Edge-augmented Graph Transformers: Global Self-attention is Enough for Graphs   \n",
      "9                                                                         Variational Graph Normalized Auto-Encoders   \n",
      "10                                                                      Local Augmentation for Graph Neural Networks   \n",
      "11                                   FedGraphNN: A Federated Learning System and Benchmark for Graph Neural Networks   \n",
      "12                                                          Diff-ResNets for Few-shot Learning -- an ODE Perspective   \n",
      "13                                                                Scale-invariant representation of machine learning   \n",
      "14                                           Generation of Synthetic Electronic Health Records Using a Federated GAN   \n",
      "15                                                              Sparsifying the Update Step in Graph Neural Networks   \n",
      "16                                                                       Computing Graph Descriptors on Edge Streams   \n",
      "17                            Deep Dual Support Vector Data Description for Anomaly Detection on Attributed Networks   \n",
      "18                      Learning Fair Graph Neural Networks with Limited and Private Sensitive Attribute Information   \n",
      "19                                                                Adversarial Stein Training for Graph Energy Models   \n",
      "20                                        Parametric UMAP embeddings for representation and semi-supervised learning   \n",
      "21                                                                     Towards Self-Explainable Graph Neural Network   \n",
      "22                                                               Temporal Network Embedding via Tensor Factorization   \n",
      "23                            LinkTeller: Recovering Private Edges from Graph Neural Networks via Influence Analysis   \n",
      "24                                             Physics-Coupled Spatio-Temporal Active Learning for Dynamical Systems   \n",
      "25                                                GIPA: General Information Propagation Algorithm for Graph Learning   \n",
      "26                                            StrucTexT: Structured Text Understanding with Multi-Modal Transformers   \n",
      "27                                                                                                    Graph Backdoor   \n",
      "28                            LatticeNet: Fast Spatio-Temporal Point Cloud Segmentation Using Permutohedral Lattices   \n",
      "29                 On the Difficulty of Generalizing Reinforcement Learning Framework for Combinatorial Optimization   \n",
      "30              Bridging the Gap between Spatial and Spectral Domains: A Unified Framework for Graph Neural Networks   \n",
      "31                           Manifold Oblique Random Forests: Towards Closing the Gap on Convolutional Deep Networks   \n",
      "32                                       DistDGL: Distributed Graph Neural Network Training for Billion-Scale Graphs   \n",
      "33                  Grain: Improving Data Efficiency of Graph Neural Networks via Diversified Influence Maximization   \n",
      "34                                                     Data-driven effective model shows a liquid-like deep learning   \n",
      "35                                                    CKConv: Learning Feature Voxelization for Point Cloud Analysis   \n",
      "36                                         Computing Graph Neural Networks: A Survey from Algorithms to Accelerators   \n",
      "37                                                      Ego-GNNs: Exploiting Ego Structures in Graph Neural Networks   \n",
      "38                                                               Adaptive Transfer Learning on Graph Neural Networks   \n",
      "39                        Multi-Scale Contrastive Siamese Networks for Self-Supervised Graph Representation Learning   \n",
      "40                                                Deep Neural Networks and End-to-End Learning for Audio Compression   \n",
      "41                                  Beyond Low-pass Filtering: Graph Convolutional Networks with Automatic Filtering   \n",
      "42                                                                     Inter-domain Multi-relational Link Prediction   \n",
      "43                                                                            Multi-Level Graph Contrastive Learning   \n",
      "44                                                              Overlapping Spaces for Compact Graph Representations   \n",
      "45                                                   ARM-Net: Adaptive Relation Modeling Network for Structured Data   \n",
      "46                                                         Learning deep autoregressive models for hierarchical data   \n",
      "47                                                                     Edge Representation Learning with Hypergraphs   \n",
      "48                          Domain adaptation for person re-identification on new unlabeled data using AlignedReID++   \n",
      "49                         GCN-SL: Graph Convolutional Networks with Structure Learning for Graphs under Heterophily   \n",
      "\n",
      "                                                                                                                                                                                                                                                                                                                                                                                                                                                                                                                                                                                                                                                                                                                                                                                                                                                                                                                                                                                                                                                                                                                                                                                                                                                                                                                                                                                                                                                                                                                                                                                                                                                                                                                                                                                                                                                                                                                                                                                                                abstracts  \n",
      "0                                                                                                                                                                                                                                        Graph neural networks (GNNs) have been widely used to learn vector\\nrepresentation of graph-structured data and achieved better task performance\\nthan conventional methods. The foundation of GNNs is the message passing\\nprocedure, which propagates the information in a node to its neighbors. Since\\nthis procedure proceeds one step per layer, the range of the information\\npropagation among nodes is small in the lower layers, and it expands toward the\\nhigher layers. Therefore, a GNN model has to be deep enough to capture global\\nstructural information in a graph. On the other hand, it is known that deep GNN\\nmodels suffer from performance degradation because they lose nodes' local\\ninformation, which would be essential for good model performance, through many\\nmessage passing steps. In this study, we propose multi-level attention pooling\\n(MLAP) for graph-level classification tasks, which can adapt to both local and\\nglobal structural information in a graph. It has an attention pooling layer for\\neach message passing step and computes the final graph representation by\\nunifying the layer-wise graph representations. The MLAP architecture allows\\nmodels to utilize the structural information of graphs with multiple levels of\\nlocalities because it preserves layer-wise information before losing them due\\nto oversmoothing. Results of our experiments show that the MLAP architecture\\nimproves the graph classification performance compared to the baseline\\narchitectures. In addition, analyses on the layer-wise graph representations\\nsuggest that aggregating information from multiple levels of localities indeed\\nhas the potential to improve the discriminability of learned graph\\nrepresentations.  \n",
      "1                                                                                                                                                                                                                                                                                                                                                                                                    Deep networks and decision forests (such as random forests and gradient\\nboosted trees) are the leading machine learning methods for structured and\\ntabular data, respectively. Many papers have empirically compared large numbers\\nof classifiers on one or two different domains (e.g., on 100 different tabular\\ndata settings). However, a careful conceptual and empirical comparison of these\\ntwo strategies using the most contemporary best practices has yet to be\\nperformed. Conceptually, we illustrate that both can be profitably viewed as\\n\"partition and vote\" schemes. Specifically, the representation space that they\\nboth learn is a partitioning of feature space into a union of convex polytopes.\\nFor inference, each decides on the basis of votes from the activated nodes.\\nThis formulation allows for a unified basic understanding of the relationship\\nbetween these methods. Empirically, we compare these two strategies on hundreds\\nof tabular data settings, as well as several vision and auditory settings. Our\\nfocus is on datasets with at most 10,000 samples, which represent a large\\nfraction of scientific and biomedical datasets. In general, we found forests to\\nexcel at tabular and structured data (vision and audition) with small sample\\nsizes, whereas deep nets performed better on structured data with larger sample\\nsizes. This suggests that further gains in both scenarios may be realized via\\nfurther combining aspects of forests and networks. We will continue revising\\nthis technical report in the coming months with updated results.  \n",
      "2                                                                                                                                                                                                                                                                                                                                                                                                                                                                                                                                                                                                                                                                                                                                                                                                                                                                                                                                                                                                                                                                                                                                                  Graph convolutional networks (GCNs) are powerful tools for graph-structured\\ndata. However, they have been recently shown to be vulnerable to topological\\nattacks. To enhance adversarial robustness, we go beyond spectral graph theory\\nto robust graph theory. By challenging the classical graph Laplacian, we\\npropose a new convolution operator that is provably robust in the spectral\\ndomain and is incorporated in the GCN architecture to improve expressivity and\\ninterpretability. By extending the original graph to a sequence of graphs, we\\nalso propose a robust training paradigm that encourages transferability across\\ngraphs that span a range of spatial and spectral characteristics. The proposed\\napproaches are demonstrated in extensive experiments to simultaneously improve\\nperformance in both benign and adversarial situations.  \n",
      "3                                                                                                                                                                                                                                                                                                                                                                                                                                                          With the increasing popularity of Graph Neural Networks (GNNs) in several\\nsensitive applications like healthcare and medicine, concerns have been raised\\nover the privacy aspects of trained GNNs. More notably, GNNs are vulnerable to\\nprivacy attacks, such as membership inference attacks, even if only blackbox\\naccess to the trained model is granted. To build defenses, differential privacy\\nhas emerged as a mechanism to disguise the sensitive data in training datasets.\\nFollowing the strategy of Private Aggregation of Teacher Ensembles (PATE),\\nrecent methods leverage a large ensemble of teacher models. These teachers are\\ntrained on disjoint subsets of private data and are employed to transfer\\nknowledge to a student model, which is then released with privacy guarantees.\\nHowever, splitting graph data into many disjoint training sets may destroy the\\nstructural information and adversely affect accuracy. We propose a new\\ngraph-specific scheme of releasing a student GNN, which avoids splitting\\nprivate training data altogether. The student GNN is trained using public data,\\npartly labeled privately using the teacher GNN models trained exclusively for\\neach query node. We theoretically analyze our approach in the R\\`{e}nyi\\ndifferential privacy framework and provide privacy guarantees. Besides, we show\\nthe solid experimental performance of our method compared to several baselines,\\nincluding the PATE baseline adapted for graph-structured data. Our anonymized\\ncode is available.  \n",
      "4                                                                                                                                                                                                                                                                                                                                                                                                                                                                                 Machine learning solutions for pattern classification problems are nowadays\\nwidely deployed in society and industry. However, the lack of transparency and\\naccountability of most accurate models often hinders their safe use. Thus,\\nthere is a clear need for developing explainable artificial intelligence\\nmechanisms. There exist model-agnostic methods that summarize feature\\ncontributions, but their interpretability is limited to predictions made by\\nblack-box models. An open challenge is to develop models that have intrinsic\\ninterpretability and produce their own explanations, even for classes of models\\nthat are traditionally considered black boxes like (recurrent) neural networks.\\nIn this paper, we propose a Long-Term Cognitive Network for interpretable\\npattern classification of structured data. Our method brings its own mechanism\\nfor providing explanations by quantifying the relevance of each feature in the\\ndecision process. For supporting the interpretability without affecting the\\nperformance, the model incorporates more flexibility through a quasi-nonlinear\\nreasoning rule that allows controlling nonlinearity. Besides, we propose a\\nrecurrence-aware decision model that evades the issues posed by unique fixed\\npoints while introducing a deterministic learning method to compute the tunable\\nparameters. The simulations show that our interpretable model obtains\\ncompetitive results when compared to the state-of-the-art white and black-box\\nmodels.  \n",
      "5                                                                                                                                                                                                                                                                                                                                                                                                                                                                                                                                                                                                                                                                                                                                                 Graph neural networks (GNNs) are powerful models for many graph-structured\\ntasks. Existing models often assume that a complete structure of a graph is\\navailable during training, however, in practice, graph-structured data is\\nusually formed in a streaming fashion, so that learning a graph continuously is\\noften necessary. In this paper, we aim to bridge GNN to lifelong learning by\\nconverting a graph problem to a regular learning problem, so that GNN is able\\nto inherit the lifelong learning techniques developed for convolutional neural\\nnetworks (CNNs). To this end, we propose a new graph topology based on feature\\ncross-correlation, called the feature graph. It takes features as new nodes and\\nturns nodes into independent graphs. This successfully converts the original\\nproblem of node classification to graph classification, in which the increasing\\nnodes are turned into independent training samples. In the experiments, we\\ndemonstrate the efficiency and effectiveness of feature graph networks (FGN) by\\ncontinuously learning a sequence of classical graph datasets. We also show that\\nFGN achieves superior performance in human action recognition with distributed\\nstreaming signals for wearable devices.  \n",
      "6                                                                                                                                                                                                                                                                                                                                                             Deep learning models, such as convolutional neural networks, have long been\\napplied to image and multi-media tasks, particularly those with structured\\ndata. More recently, there has been more attention to unstructured data that\\ncan be represented via graphs. These types of data are often found in health\\nand medicine, social networks, and research data repositories. Graph\\nconvolutional neural networks have recently gained attention in the field of\\ndeep learning that takes advantage of graph-based data representation with\\nautomatic feature extraction via convolutions. Given the popularity of these\\nmethods in a wide range of applications, robust uncertainty quantification is\\nvital. This remains a challenge for large models and unstructured datasets.\\nBayesian inference provides a principled approach to uncertainty quantification\\nof model parameters for deep learning models. Although Bayesian inference has\\nbeen used extensively elsewhere, its application to deep learning remains\\nlimited due to the computational requirements of the Markov Chain Monte Carlo\\n(MCMC) methods. Recent advances in parallel computing and advanced proposal\\nschemes in MCMC sampling methods has opened the path for Bayesian deep\\nlearning. In this paper, we present Bayesian graph convolutional neural\\nnetworks that employ tempered MCMC sampling with Langevin-gradient proposal\\ndistribution implemented via parallel computing. Our results show that the\\nproposed method can provide accuracy similar to advanced optimisers while\\nproviding uncertainty quantification for key benchmark problems.  \n",
      "7                                                                                                                                                                                                                                                                                                                                                                                                                                                                                                                                       A Graph Convolutional Network (GCN) stacks several layers and in each layer\\nperforms a PROPagation operation (PROP) and a TRANsformation operation (TRAN)\\nfor learning node representations over graph-structured data. Though powerful,\\nGCNs tend to suffer performance drop when the model gets deep. Previous works\\nfocus on PROPs to study and mitigate this issue, but the role of TRANs is\\nbarely investigated. In this work, we study performance degradation of GCNs by\\nexperimentally examining how stacking only TRANs or PROPs works. We find that\\nTRANs contribute significantly, or even more than PROPs, to declining\\nperformance, and moreover that they tend to amplify node-wise feature variance\\nin GCNs, causing variance inflammation that we identify as a key factor for\\ncausing performance drop. Motivated by such observations, we propose a\\nvariance-controlling technique termed Node Normalization (NodeNorm), which\\nscales each node's features using its own standard deviation. Experimental\\nresults validate the effectiveness of NodeNorm on addressing performance\\ndegradation of GCNs. Specifically, it enables deep GCNs to outperform shallow\\nones in cases where deep models are needed, and to achieve comparable results\\nwith shallow ones on 6 benchmark datasets. NodeNorm is a generic plug-in and\\ncan well generalize to other GNN architectures. Code is publicly available at\\nhttps://github.com/miafei/NodeNorm.  \n",
      "8                                                                                                                                                                                                                                                                                                                                             Transformer neural networks have achieved state-of-the-art results for\\nunstructured data such as text and images but their adoption for\\ngraph-structured data has been limited. This is partly due to the difficulty of\\nincorporating complex structural information in the basic transformer\\nframework. We propose a simple yet powerful extension to the transformer -\\nresidual edge channels. The resultant framework, which we call Edge-augmented\\nGraph Transformer (EGT), can directly accept, process and output structural\\ninformation as well as node information. It allows us to use global\\nself-attention, the key element of transformers, directly for graphs and comes\\nwith the benefit of long-range interaction among nodes. Moreover, the edge\\nchannels allow the structural information to evolve from layer to layer, and\\nprediction tasks on edges/links can be performed directly from the output\\nembeddings of these channels. In addition, we introduce a generalized\\npositional encoding scheme for graphs based on Singular Value Decomposition\\nwhich can improve the performance of EGT. Our framework, which relies on global\\nnode feature aggregation, achieves better performance compared to\\nConvolutional/Message-Passing Graph Neural Networks, which rely on local\\nfeature aggregation within a neighborhood. We verify the performance of EGT in\\na supervised learning setting on a wide range of experiments on benchmark\\ndatasets. Our findings indicate that convolutional aggregation is not an\\nessential inductive bias for graphs and global self-attention can serve as a\\nflexible and adaptive alternative.  \n",
      "9                                                                                                                                                                                                                                                                                                                                                                                                                                                                                                                                                                                                                                                                                                                                                                                                                                                                                                                                                                                                                                                                                   Link prediction is one of the key problems for graph-structured data. With\\nthe advancement of graph neural networks, graph autoencoders (GAEs) and\\nvariational graph autoencoders (VGAEs) have been proposed to learn graph\\nembeddings in an unsupervised way. It has been shown that these methods are\\neffective for link prediction tasks. However, they do not work well in link\\npredictions when a node whose degree is zero (i.g., isolated node) is involved.\\nWe have found that GAEs/VGAEs make embeddings of isolated nodes close to zero\\nregardless of their content features. In this paper, we propose a novel\\nVariational Graph Normalized AutoEncoder (VGNAE) that utilize L2-normalization\\nto derive better embeddings for isolated nodes. We show that our VGNAEs\\noutperform the existing state-of-the-art models for link prediction tasks. The\\ncode is available at https://github.com/SeongJinAhn/VGNAE.  \n",
      "10                                                                                                                                                                                                                                                                                                                                                                                                                                                                                                                                                                                                                                                                             Data augmentation has been widely used in image data and linguistic data but\\nremains under-explored on graph-structured data. Existing methods focus on\\naugmenting the graph data from a global perspective and largely fall into two\\ngenres: structural manipulation and adversarial training with feature noise\\ninjection. However, the structural manipulation approach suffers information\\nloss issues while the adversarial training approach may downgrade the feature\\nquality by injecting noise. In this work, we introduce the local augmentation,\\nwhich enhances node features by its local subgraph structures. Specifically, we\\nmodel the data argumentation as a feature generation process. Given the central\\nnode's feature, our local augmentation approach learns the conditional\\ndistribution of its neighbors' features and generates the neighbors' optimal\\nfeature to boost the performance of downstream tasks. Based on the local\\naugmentation, we further design a novel framework: LA-GNN, which can apply to\\nany GNN models in a plug-and-play manner. Extensive experiments and analyses\\nshow that local augmentation consistently yields performance improvement for\\nvarious GNN architectures across a diverse set of benchmarks. Code is available\\nat https://github.com/Soughing0823/LAGNN.  \n",
      "11                                                                                                                                                                               Graph Neural Network (GNN) research is rapidly growing thanks to the capacity\\nof GNNs in learning distributed representations from graph-structured data.\\nHowever, centralizing a massive amount of real-world graph data for GNN\\ntraining is prohibitive due to privacy concerns, regulation restrictions, and\\ncommercial competitions. Federated learning (FL), a trending distributed\\nlearning paradigm, provides possibilities to solve this challenge while\\npreserving data privacy. Despite recent advances in vision and language\\ndomains, there is no suitable platform for the FL of GNNs. To this end, we\\nintroduce FedGraphNN, an open FL benchmark system that can facilitate research\\non federated GNNs. FedGraphNN is built on a unified formulation of graph FL and\\ncontains a wide range of datasets from different domains, popular GNN models,\\nand FL algorithms, with secure and efficient system support. Particularly for\\nthe datasets, we collect, preprocess, and partition 36 datasets from 7 domains,\\nincluding both publicly available ones and specifically obtained ones such as\\nhERG and Tencent. Our empirical analysis showcases the utility of our benchmark\\nsystem, while exposing significant challenges in graph FL: federated GNNs\\nperform worse in most datasets with a non-IID split than centralized GNNs; the\\nGNN model that attains the best result in the centralized setting may not\\nmaintain its advantage in the FL setting. These results imply that more\\nresearch efforts are needed to unravel the mystery behind federated GNNs.\\nMoreover, our system performance analysis demonstrates that the FedGraphNN\\nsystem is computationally efficient and secure to large-scale graphs datasets.\\nWe maintain the source code at https://github.com/FedML-AI/FedGraphNN.  \n",
      "12                                                                                                                                                                                                                                                                                                                                                                                                                                                                                                                                                                                                                                                                                                                                                                                  Interpreting deep neural networks from the ordinary differential equations\\n(ODEs) perspective has inspired many efficient and robust network\\narchitectures. However, existing ODE based approaches ignore the relationship\\namong data points, which is a critical component in many problems including\\nfew-shot learning and semi-supervised learning. In this paper, inspired by the\\ndiffusive ODEs, we propose a novel diffusion residual network (Diff-ResNet) to\\nstrengthen the interactions among data points. Under the structured data\\nassumption, it is proved that the diffusion mechanism can decrease the\\ndistance-diameter ratio that improves the separability of inter-class points\\nand reduces the distance among local intra-class points. This property can be\\neasily adopted by the residual networks for constructing the separable\\nhyperplanes. The synthetic binary classification experiments demonstrate the\\neffectiveness of the proposed diffusion mechanism. Moreover, extensive\\nexperiments of few-shot image classification and semi-supervised graph node\\nclassification in various datasets validate the advantages of the proposed\\nDiff-ResNet over existing few-shot learning methods.  \n",
      "13                                                                                                                                                                                                                                                                                                                                                                                                                                                                                                                                                                                                                                                                                                                                                                                                                                                                                                                                                                                                                                                                                                                                                                                                         The success of machine learning stems from its structured data\\nrepresentation. Similar data have close representation as compressed codes for\\nclassification or emerged labels for clustering. We observe that the frequency\\nof the internal representation follows power laws in both supervised and\\nunsupervised learning. The scale-invariant distribution implies that machine\\nlearning largely compresses frequent typical data, and at the same time,\\ndifferentiates many atypical data as outliers. In this study, we derive how the\\npower laws can naturally arise in machine learning. In terms of information\\ntheory, the scale-invariant representation corresponds to a maximally uncertain\\ndata grouping among possible representations that guarantee pre-specified\\nlearning accuracy.  \n",
      "14                                                                                                                                                                                                                                                        Sensitive medical data is often subject to strict usage constraints. In this\\npaper, we trained a generative adversarial network (GAN) on real-world\\nelectronic health records (EHR). It was then used to create a data-set of\\n\"fake\" patients through synthetic data generation (SDG) to circumvent usage\\nconstraints. This real-world data was tabular, binary, intensive care unit\\n(ICU) patient diagnosis data. The entire data-set was split into separate data\\nsilos to mimic real-world scenarios where multiple ICU units across different\\nhospitals may have similarly structured data-sets within their own\\norganisations but do not have access to each other's data-sets. We implemented\\nfederated learning (FL) to train separate GANs locally at each organisation,\\nusing their unique data silo and then combining the GANs into a single central\\nGAN, without any siloed data ever being exposed. This global, central GAN was\\nthen used to generate the synthetic patients data-set. We performed an\\nevaluation of these synthetic patients with statistical measures and through a\\nstructured review by a group of medical professionals. It was shown that there\\nwas no significant reduction in the quality of the synthetic EHR when we moved\\nbetween training a single central model and training on separate data silos\\nwith individual models before combining them into a central model. This was\\ntrue for both the statistical evaluation (Root Mean Square Error (RMSE) of\\n0.0154 for single-source vs. RMSE of 0.0169 for dual-source federated) and also\\nfor the medical professionals' evaluation (no quality difference between EHR\\ngenerated from a single source and EHR generated from multiple sources).  \n",
      "15                                                                                                                                                                                                                                                                                                                                                                                                                                      Message-Passing Neural Networks (MPNNs), the most prominent Graph Neural\\nNetwork (GNN) framework, celebrate much success in the analysis of\\ngraph-structured data. Concurrently, the sparsification of Neural Network\\nmodels attracts a great amount of academic and industrial interest. In this\\npaper, we conduct a structured study of the effect of sparsification on the\\ntrainable part of MPNNs known as the Update step. To this end, we design a\\nseries of models to successively sparsify the linear transform in the Update\\nstep. Specifically, we propose the ExpanderGNN model with a tuneable\\nsparsification rate and the Activation-Only GNN, which has no linear transform\\nin the Update step. In agreement with a growing trend in the literature, the\\nsparsification paradigm is changed by initialising sparse neural network\\narchitectures rather than expensively sparsifying already trained\\narchitectures. Our novel benchmark models enable a better understanding of the\\ninfluence of the Update step on model performance and outperform existing\\nsimplified benchmark models such as the Simple Graph Convolution. The\\nExpanderGNNs, and in some cases the Activation-Only models, achieve performance\\non par with their vanilla counterparts on several downstream tasks while\\ncontaining significantly fewer trainable parameters. In experiments with\\nmatching parameter numbers, our benchmark models outperform the\\nstate-of-the-art GNN models. Our code is publicly available at:\\nhttps://github.com/ChangminWu/ExpanderGNN.  \n",
      "16                                                                                                                                                                                                                                                                                                                                                                                                                                                                                                                                                                                                   Graph feature extraction is a fundamental task in graphs analytics. Using\\nfeature vectors (graph descriptors) in tandem with data mining algorithms that\\noperate on Euclidean data, one can solve problems such as classification,\\nclustering, and anomaly detection on graph-structured data. This idea has\\nproved fruitful in the past, with spectral-based graph descriptors providing\\nstate-of-the-art classification accuracy on benchmark datasets. However, these\\nalgorithms do not scale to large graphs since: 1) they require storing the\\nentire graph in memory, and 2) the end-user has no control over the algorithm's\\nruntime. In this paper, we present single-pass streaming algorithms to\\napproximate structural features of graphs (counts of subgraphs of order $k \\geq\\n4$). Operating on edge streams allows us to avoid keeping the entire graph in\\nmemory, and controlling the sample size enables us to control the time taken by\\nthe algorithm. We demonstrate the efficacy of our descriptors by analyzing the\\napproximation error, classification accuracy, and scalability to massive\\ngraphs. Our experiments showcase the effect of the sample size on approximation\\nerror and predictive accuracy. The proposed descriptors are applicable on\\ngraphs with millions of edges within minutes and outperform the\\nstate-of-the-art descriptors in classification accuracy.  \n",
      "17                                                                                                                                                                                                                                                                                                  Networks are ubiquitous in the real world such as social networks and\\ncommunication networks, and anomaly detection on networks aims at finding nodes\\nwhose structural or attributed patterns deviate significantly from the majority\\nof reference nodes. However, most of the traditional anomaly detection methods\\nneglect the relation structure information among data points and therefore\\ncannot effectively generalize to the graph structure data. In this paper, we\\npropose an end-to-end model of Deep Dual Support Vector Data description based\\nAutoencoder (Dual-SVDAE) for anomaly detection on attributed networks, which\\nconsiders both the structure and attribute for attributed networks.\\nSpecifically, Dual-SVDAE consists of a structure autoencoder and an attribute\\nautoencoder to learn the latent representation of the node in the structure\\nspace and attribute space respectively. Then, a dual-hypersphere learning\\nmechanism is imposed on them to learn two hyperspheres of normal nodes from the\\nstructure and attribute perspectives respectively. Moreover, to achieve joint\\nlearning between the structure and attribute of the network, we fuse the\\nstructure embedding and attribute embedding as the final input of the feature\\ndecoder to generate the node attribute. Finally, abnormal nodes can be detected\\nby measuring the distance of nodes to the learned center of each hypersphere in\\nthe latent structure space and attribute space respectively. Extensive\\nexperiments on the real-world attributed networks show that Dual-SVDAE\\nconsistently outperforms the state-of-the-arts, which demonstrates the\\neffectiveness of the proposed method.  \n",
      "18  Graph neural networks (GNNs) have shown great power in modeling graph\\nstructured data. However, similar to other machine learning models, GNNs may\\nmake biased predictions w.r.t protected sensitive attributes, e.g., skin color\\nand gender. This is because the training data often contains historical bias\\ntowards sensitive attributes. In addition, we empirically show that the\\ndiscrimination in GNNs can be magnified by graph structures and the\\nmessage-passing mechanism of GNNs. As a result, the applications of GNNs in\\nhigh-stake domains such as crime rate prediction would be largely limited.\\nThough extensive studies of fair classification have been conducted on i.i.d\\ndata, methods to address the problem of discrimination on non-i.i.d data are\\nrather limited. Generally, learning fair models require abundant sensitive\\nattributes to regularize the model. However, for many graphs such as social\\nnetworks, users are reluctant to share sensitive attributes. Thus, only limited\\nsensitive attributes are available for fair GNN training in practice. Moreover,\\ndirectly collecting and applying the sensitive attributes in fair model\\ntraining may cause privacy issues, because the sensitive information can be\\nleaked in data breach or attacks on the trained model. Therefore, we study a\\nnovel and crucial problem of learning fair GNNs with limited and private\\nsensitive attribute information. In an attempt to address these problems,\\nFairGNN is proposed to eliminate the bias of GNNs whilst maintaining high\\naccuracy by leveraging graph structures and limited sensitive information. We\\nfurther extend FairGNN to NT-FairGNN which can achieve both fairness and\\nprivacy on sensitive attributes by using limited and private sensitive\\nattributes. Theoretical analysis and extensive experiments on real-world\\ndatasets demonstrate the effectiveness of FairGNN and NT-FairGNN in achieving\\nfair and high-accurate classification.  \n",
      "19                                                                                                                                                                                                                                                                                                                                                                                                                                                                                                                                                                                                                                                                                                                                                                                                                                                                                                                                                                                                                                                                                                                                                                                                                                                                                                                                                                                                   Learning distributions over graph-structured data is a challenging task with\\nmany applications in biology and chemistry. In this work we use an energy-based\\nmodel (EBM) based on multi-channel graph neural networks (GNN) to learn\\npermutation invariant unnormalized density functions on graphs. Unlike standard\\nEBM training methods our approach is to learn the model via minimizing\\nadversarial stein discrepancy. Samples from the model can be obtained via\\nLangevin dynamics based MCMC. We find that this approach achieves competitive\\nresults on graph generation compared to benchmark models.  \n",
      "20                                                                                                                                                                                                                                                                                                                                                                                                                                                                                                                                                                                                                                                                                                                                                                                                                               UMAP is a non-parametric graph-based dimensionality reduction algorithm using\\napplied Riemannian geometry and algebraic topology to find low-dimensional\\nembeddings of structured data. The UMAP algorithm consists of two steps: (1)\\nCompute a graphical representation of a dataset (fuzzy simplicial complex), and\\n(2) Through stochastic gradient descent, optimize a low-dimensional embedding\\nof the graph. Here, we extend the second step of UMAP to a parametric\\noptimization over neural network weights, learning a parametric relationship\\nbetween data and embedding. We first demonstrate that Parametric UMAP performs\\ncomparably to its non-parametric counterpart while conferring the benefit of a\\nlearned parametric mapping (e.g. fast online embeddings for new data). We then\\nexplore UMAP as a regularization, constraining the latent distribution of\\nautoencoders, parametrically varying global structure preservation, and\\nimproving classifier accuracy for semi-supervised learning by capturing\\nstructure in unlabeled data. Google Colab walkthrough:\\nhttps://colab.research.google.com/drive/1WkXVZ5pnMrm17m0YgmtoNjM_XHdnE5Vp?usp=sharing  \n",
      "21                                                                                                                                                                                                                                                                                                                                                                                                                                                                                                                                                                                      Graph Neural Networks (GNNs), which generalize the deep neural networks to\\ngraph-structured data, have achieved great success in modeling graphs. However,\\nas an extension of deep learning for graphs, GNNs lack explainability, which\\nlargely limits their adoption in scenarios that demand the transparency of\\nmodels. Though many efforts are taken to improve the explainability of deep\\nlearning, they mainly focus on i.i.d data, which cannot be directly applied to\\nexplain the predictions of GNNs because GNNs utilize both node features and\\ngraph topology to make predictions. There are only very few work on the\\nexplainability of GNNs and they focus on post-hoc explanations. Since post-hoc\\nexplanations are not directly obtained from the GNNs, they can be biased and\\nmisrepresent the true explanations. Therefore, in this paper, we study a novel\\nproblem of self-explainable GNNs which can simultaneously give predictions and\\nexplanations. We propose a new framework which can find $K$-nearest labeled\\nnodes for each unlabeled node to give explainable node classification, where\\nnearest labeled nodes are found by interpretable similarity module in terms of\\nboth node similarity and local structure similarity. Extensive experiments on\\nreal-world and synthetic datasets demonstrate the effectiveness of the proposed\\nframework for explainable node classification.  \n",
      "22                                                                                                                                                                                                                                                                                                                                                                                                                                                                                                                                                                                                                                                                                                                                                                                                                                                                                                                                                                                                Representation learning on static graph-structured data has shown a\\nsignificant impact on many real-world applications. However, less attention has\\nbeen paid to the evolving nature of temporal networks, in which the edges are\\noften changing over time. The embeddings of such temporal networks should\\nencode both graph-structured information and the temporally evolving pattern.\\nExisting approaches in learning temporally evolving network representations\\nfail to capture the temporal interdependence. In this paper, we propose Toffee,\\na novel approach for temporal network representation learning based on tensor\\ndecomposition. Our method exploits the tensor-tensor product operator to encode\\nthe cross-time information, so that the periodic changes in the evolving\\nnetworks can be captured. Experimental results demonstrate that Toffee\\noutperforms existing methods on multiple real-world temporal networks in\\ngenerating effective embeddings for the link prediction tasks.  \n",
      "23      Graph structured data have enabled several successful applications such as\\nrecommendation systems and traffic prediction, given the rich node features and\\nedges information. However, these high-dimensional features and high-order\\nadjacency information are usually heterogeneous and held by different data\\nholders in practice. Given such vertical data partition (e.g., one data holder\\nwill only own either the node features or edge information), different data\\nholders have to develop efficient joint training protocols rather than directly\\ntransfer data to each other due to privacy concerns. In this paper, we focus on\\nthe edge privacy, and consider a training scenario where Bob with node features\\nwill first send training node features to Alice who owns the adjacency\\ninformation. Alice will then train a graph neural network (GNN) with the joint\\ninformation and release an inference API. During inference, Bob is able to\\nprovide test node features and query the API to obtain the predictions for test\\nnodes. Under this setting, we first propose a privacy attack LinkTeller via\\ninfluence analysis to infer the private edge information held by Alice via\\ndesigning adversarial queries for Bob. We then empirically show that LinkTeller\\nis able to recover a significant amount of private edges, outperforming\\nexisting baselines. To further evaluate the privacy leakage, we adapt an\\nexisting algorithm for differentially private graph convolutional network (DP\\nGCN) training and propose a new DP GCN mechanism LapGraph. We show that these\\nDP GCN mechanisms are not always resilient against LinkTeller empirically under\\nmild privacy guarantees ($\\varepsilon>5$). Our studies will shed light on\\nfuture research towards designing more resilient privacy-preserving GCN models;\\nin the meantime, provide an in-depth understanding of the tradeoff between GCN\\nmodel utility and robustness against potential privacy attacks.  \n",
      "24                                                                                                                                                                                                                                                                                                      Spatio-temporal forecasting is of great importance in a wide range of\\ndynamical systems applications from atmospheric science, to recent COVID-19\\nspread modeling. These applications rely on accurate predictions of\\nspatio-temporal structured data reflecting real-world phenomena. A stunning\\ncharacteristic is that the dynamical system is not only driven by some physics\\nlaws but also impacted by the localized factor in spatial and temporal regions.\\nOne of the major challenges is to infer the underlying causes, which generate\\nthe perceived data stream and propagate the involved causal dynamics through\\nthe distributed observing units. Another challenge is that the success of\\nmachine learning based predictive models requires massive annotated data for\\nmodel training. However, the acquisition of high-quality annotated data is\\nobjectively manual and tedious as it needs a considerable amount of human\\nintervention, making it infeasible in fields that require high levels of\\nexpertise. To tackle these challenges, we advocate a spatio-temporal\\nphysics-coupled neural networks (ST-PCNN) model to learn the underlying physics\\nof the dynamical system and further couple the learned physics to assist the\\nlearning of the recurring dynamics. To deal with data-acquisition constraints,\\nan active learning mechanism with Kriging for actively acquiring the most\\ninformative data is proposed for ST-PCNN training in a partially observable\\nenvironment. Our experiments on both synthetic and real-world datasets exhibit\\nthat the proposed ST-PCNN with active learning converges to near optimal\\naccuracy with substantially fewer instances.  \n",
      "25                                                                                                                                                                                                                                                                                                                                                                                                                                                                                                                                                                                                                                                                                                                   Graph neural networks (GNNs) have been popularly used in analyzing\\ngraph-structured data, showing promising results in various applications such\\nas node classification, link prediction and network recommendation. In this\\npaper, we present a new graph attention neural network, namely GIPA, for\\nattributed graph data learning. GIPA consists of three key components:\\nattention, feature propagation and aggregation. Specifically, the attention\\ncomponent introduces a new multi-layer perceptron based multi-head to generate\\nbetter non-linear feature mapping and representation than conventional\\nimplementations such as dot-product. The propagation component considers not\\nonly node features but also edge features, which differs from existing GNNs\\nthat merely consider node features. The aggregation component uses a residual\\nconnection to generate the final embedding. We evaluate the performance of GIPA\\nusing the Open Graph Benchmark proteins (ogbn-proteins for short) dataset. The\\nexperimental results reveal that GIPA can beat the state-of-the-art models in\\nterms of prediction accuracy, e.g., GIPA achieves an average test ROC-AUC of\\n$0.8700\\pm 0.0010$ and outperforms all the previous methods listed in the\\nogbn-proteins leaderboard.  \n",
      "26                                                                                                                                                                                                                                                                                                                                                                                                                                                                                                                                          Structured text understanding on Visually Rich Documents (VRDs) is a crucial\\npart of Document Intelligence. Due to the complexity of content and layout in\\nVRDs, structured text understanding has been a challenging task. Most existing\\nstudies decoupled this problem into two sub-tasks: entity labeling and entity\\nlinking, which require an entire understanding of the context of documents at\\nboth token and segment levels. However, little work has been concerned with the\\nsolutions that efficiently extract the structured data from different levels.\\nThis paper proposes a unified framework named StrucTexT, which is flexible and\\neffective for handling both sub-tasks. Specifically, based on the transformer,\\nwe introduce a segment-token aligned encoder to deal with the entity labeling\\nand entity linking tasks at different levels of granularity. Moreover, we\\ndesign a novel pre-training strategy with three self-supervised tasks to learn\\na richer representation. StrucTexT uses the existing Masked Visual Language\\nModeling task and the new Sentence Length Prediction and Paired Boxes Direction\\ntasks to incorporate the multi-modal information across text, image, and\\nlayout. We evaluate our method for structured text understanding at\\nsegment-level and token-level and show it outperforms the state-of-the-art\\ncounterparts with significantly superior performance on the FUNSD, SROIE, and\\nEPHOIE datasets.  \n",
      "27                                                                                                                                                                                                                                                                                                                                                    One intriguing property of deep neural networks (DNNs) is their inherent\\nvulnerability to backdoor attacks -- a trojan model responds to\\ntrigger-embedded inputs in a highly predictable manner while functioning\\nnormally otherwise. Despite the plethora of prior work on DNNs for continuous\\ndata (e.g., images), the vulnerability of graph neural networks (GNNs) for\\ndiscrete-structured data (e.g., graphs) is largely unexplored, which is highly\\nconcerning given their increasing use in security-sensitive domains. To bridge\\nthis gap, we present GTA, the first backdoor attack on GNNs. Compared with\\nprior work, GTA departs in significant ways: graph-oriented -- it defines\\ntriggers as specific subgraphs, including both topological structures and\\ndescriptive features, entailing a large design spectrum for the adversary;\\ninput-tailored -- it dynamically adapts triggers to individual graphs, thereby\\noptimizing both attack effectiveness and evasiveness; downstream model-agnostic\\n-- it can be readily launched without knowledge regarding downstream models or\\nfine-tuning strategies; and attack-extensible -- it can be instantiated for\\nboth transductive (e.g., node classification) and inductive (e.g., graph\\nclassification) tasks, constituting severe threats for a range of\\nsecurity-critical applications. Through extensive evaluation using benchmark\\ndatasets and state-of-the-art models, we demonstrate the effectiveness of GTA.\\nWe further provide analytical justification for its effectiveness and discuss\\npotential countermeasures, pointing to several promising research directions.  \n",
      "28                                                                                                                                                                                                                                                                                                                                                                                                                                                                                                                                                                                                                                                                                                                                                                                                                                                                                                                                                                                                                                                                                             Deep convolutional neural networks (CNNs) have shown outstanding performance\\nin the task of semantically segmenting images. Applying the same methods on 3D\\ndata still poses challenges due to the heavy memory requirements and the lack\\nof structured data. Here, we propose LatticeNet, a novel approach for 3D\\nsemantic segmentation, which takes raw point clouds as input. A PointNet\\ndescribes the local geometry which we embed into a sparse permutohedral\\nlattice. The lattice allows for fast convolutions while keeping a low memory\\nfootprint. Further, we introduce DeformSlice, a novel learned data-dependent\\ninterpolation for projecting lattice features back onto the point cloud. We\\npresent results of 3D segmentation on multiple datasets where our method\\nachieves state-of-the-art performance. We also extend and evaluate our network\\nfor instance and dynamic object segmentation.  \n",
      "29                                                                                                                                                                                                                                                                                                                                                                                                                                                                                                                                                                                                                        Combinatorial optimization problems (COPs) on the graph with real-life\\napplications are canonical challenges in Computer Science. The difficulty of\\nfinding quality labels for problem instances holds back leveraging supervised\\nlearning across combinatorial problems. Reinforcement learning (RL) algorithms\\nhave recently been adopted to solve this challenge automatically. The\\nunderlying principle of this approach is to deploy a graph neural network (GNN)\\nfor encoding both the local information of the nodes and the graph-structured\\ndata in order to capture the current state of the environment. Then, it is\\nfollowed by the actor to learn the problem-specific heuristics on its own and\\nmake an informed decision at each state for finally reaching a good solution.\\nRecent studies on this subject mainly focus on a family of combinatorial\\nproblems on the graph, such as the travel salesman problem, where the proposed\\nmodel aims to find an ordering of vertices that optimizes a given objective\\nfunction. We use the security-aware phone clone allocation in the cloud as a\\nclassical quadratic assignment problem (QAP) to investigate whether or not deep\\nRL-based model is generally applicable to solve other classes of such hard\\nproblems. Extensive empirical evaluation shows that existing RL-based model may\\nnot generalize to QAP.  \n",
      "30                                                                                                                                                                                                                                                                                                                                                                                                                                                                                                                                                                                                                                                                                                                                                                                                                                                                                                                                                                                                                                                                                                                                                                                                                                                           Deep learning's performance has been extensively recognized recently. Graph\\nneural networks (GNNs) are designed to deal with graph-structural data that\\nclassical deep learning does not easily manage. Since most GNNs were created\\nusing distinct theories, direct comparisons are impossible. Prior research has\\nprimarily concentrated on categorizing existing models, with little attention\\npaid to their intrinsic connections. The purpose of this study is to establish\\na unified framework that integrates GNNs based on spectral graph and\\napproximation theory. The framework incorporates a strong integration between\\nspatial- and spectral-based GNNs while tightly associating approaches that\\nexist within each respective domain.  \n",
      "31                                              Decision forests (Forests), in particular random forests and gradient\\nboosting trees, have demonstrated state-of-the-art accuracy compared to other\\nmethods in many supervised learning scenarios. In particular, Forests dominate\\nother methods in tabular data, that is, when the feature space is unstructured,\\nso that the signal is invariant to a permutation of the feature indices.\\nHowever, in structured data lying on a manifold (such as images, text, and\\nspeech) deep networks (Networks), specifically convolutional deep networks\\n(ConvNets), tend to outperform Forests. We conjecture that at least part of the\\nreason for this is that the input to Networks is not simply the feature\\nmagnitudes, but also their indices. In contrast, naive Forest implementations\\nfail to explicitly consider feature indices. A recently proposed Forest\\napproach demonstrates that Forests, for each node, implicitly sample a random\\nmatrix from some specific distribution. These Forests, like some classes of\\nNetworks, learn by partitioning the feature space into convex polytopes\\ncorresponding to linear functions. We build on that approach and show that one\\ncan choose distributions in a manifold-aware fashion to incorporate feature\\nlocality. We demonstrate the empirical performance on data whose features live\\non three different manifolds: a torus, images, and time-series. Moreover, we\\ndemonstrate its strength in multivariate simulated settings and also show\\nsuperiority in predicting surgical outcome in epilepsy patients and predicting\\nmovement direction from raw stereotactic EEG data from non-motor brain regions.\\nIn all simulations and real data, Manifold Oblique Random Forest (MORF)\\nalgorithm outperforms approaches that ignore feature space structure and\\nchallenges the performance of ConvNets. Moreover, MORF runs fast and maintains\\ninterpretability and theoretical justification.  \n",
      "32                                                                                                    Graph neural networks (GNN) have shown great success in learning from\\ngraph-structured data. They are widely used in various applications, such as\\nrecommendation, fraud detection, and search. In these domains, the graphs are\\ntypically large, containing hundreds of millions of nodes and several billions\\nof edges. To tackle this challenge, we develop DistDGL, a system for training\\nGNNs in a mini-batch fashion on a cluster of machines. DistDGL is based on the\\nDeep Graph Library (DGL), a popular GNN development framework. DistDGL\\ndistributes the graph and its associated data (initial features and embeddings)\\nacross the machines and uses this distribution to derive a computational\\ndecomposition by following an owner-compute rule. DistDGL follows a synchronous\\ntraining approach and allows ego-networks forming the mini-batches to include\\nnon-local nodes. To minimize the overheads associated with distributed\\ncomputations, DistDGL uses a high-quality and light-weight min-cut graph\\npartitioning algorithm along with multiple balancing constraints. This allows\\nit to reduce communication overheads and statically balance the computations.\\nIt further reduces the communication by replicating halo nodes and by using\\nsparse embedding updates. The combination of these design choices allows\\nDistDGL to train high-quality models while achieving high parallel efficiency\\nand memory scalability. We demonstrate our optimizations on both inductive and\\ntransductive GNN models. Our results show that DistDGL achieves linear speedup\\nwithout compromising model accuracy and requires only 13 seconds to complete a\\ntraining epoch for a graph with 100 million nodes and 3 billion edges on a\\ncluster with 16 machines. DistDGL is now publicly available as part of\\nDGL:https://github.com/dmlc/dgl/tree/master/python/dgl/distributed.  \n",
      "33                                                                                                                                                                                                                                                                                                                                                                                                                                                                                                                                                         Data selection methods, such as active learning and core-set selection, are\\nuseful tools for improving the data efficiency of deep learning models on\\nlarge-scale datasets. However, recent deep learning models have moved forward\\nfrom independent and identically distributed data to graph-structured data,\\nsuch as social networks, e-commerce user-item graphs, and knowledge graphs.\\nThis evolution has led to the emergence of Graph Neural Networks (GNNs) that go\\nbeyond the models existing data selection methods are designed for. Therefore,\\nwe present Grain, an efficient framework that opens up a new perspective\\nthrough connecting data selection in GNNs with social influence maximization.\\nBy exploiting the common patterns of GNNs, Grain introduces a novel feature\\npropagation concept, a diversified influence maximization objective with novel\\ninfluence and diversity functions, and a greedy algorithm with an approximation\\nguarantee into a unified framework. Empirical studies on public datasets\\ndemonstrate that Grain significantly improves both the performance and\\nefficiency of data selection (including active learning and core-set selection)\\nfor GNNs. To the best of our knowledge, this is the first attempt to bridge two\\nlargely parallel threads of research, data selection, and social influence\\nmaximization, in the setting of GNNs, paving new ways for improving data\\nefficiency.  \n",
      "34                       The geometric structure of an optimization landscape is argued to be\\nfundamentally important to support the success of deep neural network learning.\\nA direct computation of the landscape beyond two layers is hard. Therefore, to\\ncapture the global view of the landscape, an interpretable model of the\\nnetwork-parameter (or weight) space must be established. However, the model is\\nlacking so far. Furthermore, it remains unknown what the landscape looks like\\nfor deep networks of binary synapses, which plays a key role in robust and\\nenergy efficient neuromorphic computation. Here, we propose a statistical\\nmechanics framework by directly building a least structured model of the\\nhigh-dimensional weight space, considering realistic structured data,\\nstochastic gradient descent training, and the computational depth of neural\\nnetworks. We also consider whether the number of network parameters outnumbers\\nthe number of supplied training data, namely, over- or under-parametrization.\\nOur least structured model reveals that the weight spaces of the\\nunder-parametrization and over-parameterization cases belong to the same class,\\nin the sense that these weight spaces are well-connected without any\\nhierarchical clustering structure. In contrast, the shallow-network has a\\nbroken weight space, characterized by a discontinuous phase transition, thereby\\nclarifying the benefit of depth in deep learning from the angle of high\\ndimensional geometry. Our effective model also reveals that inside a deep\\nnetwork, there exists a liquid-like central part of the architecture in the\\nsense that the weights in this part behave as randomly as possible, providing\\nalgorithmic implications. Our data-driven model thus provides a statistical\\nmechanics insight about why deep learning is unreasonably effective in terms of\\nthe high-dimensional weight space, and how deep networks are different from\\nshallow ones.  \n",
      "35                                                                                                                                                                                                                                                                                                                                                                                                                                                                                                                                      Despite the remarkable success of deep learning, optimal convolution\\noperation on point cloud remains indefinite due to its irregular data\\nstructure. In this paper, we present Cubic Kernel Convolution (CKConv) that\\nlearns to voxelize the features of local points by exploiting both continuous\\nand discrete convolutions. Our continuous convolution uniquely employs a 3D\\ncubic form of kernel weight representation that splits a feature into voxels in\\nembedding space. By consecutively applying discrete 3D convolutions on the\\nvoxelized features in a spatial manner, preceding continuous convolution is\\nforced to learn spatial feature mapping, i.e., feature voxelization. In this\\nway, geometric information can be detailed by encoding with subdivided\\nfeatures, and our 3D convolutions on these fixed structured data do not suffer\\nfrom discretization artifacts thanks to voxelization in embedding space.\\nFurthermore, we propose a spatial attention module, Local Set Attention (LSA),\\nto provide comprehensive structure awareness within the local point set and\\nhence produce representative features. By learning feature voxelization with\\nLSA, CKConv can extract enriched features for effective point cloud analysis.\\nWe show that CKConv has great applicability to point cloud processing tasks\\nincluding object classification, object part segmentation, and scene semantic\\nsegmentation with state-of-the-art results.  \n",
      "36                                                                                                                                                                                                                                                                                                                                                                                 Graph Neural Networks (GNNs) have exploded onto the machine learning scene in\\nrecent years owing to their capability to model and learn from graph-structured\\ndata. Such an ability has strong implications in a wide variety of fields whose\\ndata is inherently relational, for which conventional neural networks do not\\nperform well. Indeed, as recent reviews can attest, research in the area of\\nGNNs has grown rapidly and has lead to the development of a variety of GNN\\nalgorithm variants as well as to the exploration of groundbreaking applications\\nin chemistry, neurology, electronics, or communication networks, among others.\\nAt the current stage of research, however, the efficient processing of GNNs is\\nstill an open challenge for several reasons. Besides of their novelty, GNNs are\\nhard to compute due to their dependence on the input graph, their combination\\nof dense and very sparse operations, or the need to scale to huge graphs in\\nsome applications. In this context, this paper aims to make two main\\ncontributions. On the one hand, a review of the field of GNNs is presented from\\nthe perspective of computing. This includes a brief tutorial on the GNN\\nfundamentals, an overview of the evolution of the field in the last decade, and\\na summary of operations carried out in the multiple phases of different GNN\\nalgorithm variants. On the other hand, an in-depth analysis of current software\\nand hardware acceleration schemes is provided, from which a hardware-software,\\ngraph-aware, and communication-centric vision for GNN accelerators is\\ndistilled.  \n",
      "37                                                                                                                                                                                                                                                                                                                                                                                                                                                                                                                                                                                                                                                                                                                                                                                                                                                                                                Graph neural networks (GNNs) have achieved remarkable success as a framework\\nfor deep learning on graph-structured data. However, GNNs are fundamentally\\nlimited by their tree-structured inductive bias: the WL-subtree kernel\\nformulation bounds the representational capacity of GNNs, and polynomial-time\\nGNNs are provably incapable of recognizing triangles in a graph. In this work,\\nwe propose to augment the GNN message-passing operations with information\\ndefined on ego graphs (i.e., the induced subgraph surrounding each node). We\\nterm these approaches Ego-GNNs and show that Ego-GNNs are provably more\\npowerful than standard message-passing GNNs. In particular, we show that\\nEgo-GNNs are capable of recognizing closed triangles, which is essential given\\nthe prominence of transitivity in real-world graphs. We also motivate our\\napproach from the perspective of graph signal processing as a form of multiplex\\ngraph convolution. Experimental results on node classification using synthetic\\nand real data highlight the achievable performance gains using this approach.  \n",
      "38                                                                                                                                                                                                                                                                                                                                                                                                                                                                                      Graph neural networks (GNNs) is widely used to learn a powerful\\nrepresentation of graph-structured data. Recent work demonstrates that\\ntransferring knowledge from self-supervised tasks to downstream tasks could\\nfurther improve graph representation. However, there is an inherent gap between\\nself-supervised tasks and downstream tasks in terms of optimization objective\\nand training data. Conventional pre-training methods may be not effective\\nenough on knowledge transfer since they do not make any adaptation for\\ndownstream tasks. To solve such problems, we propose a new transfer learning\\nparadigm on GNNs which could effectively leverage self-supervised tasks as\\nauxiliary tasks to help the target task. Our methods would adaptively select\\nand combine different auxiliary tasks with the target task in the fine-tuning\\nstage. We design an adaptive auxiliary loss weighting model to learn the\\nweights of auxiliary tasks by quantifying the consistency between auxiliary\\ntasks and the target task. In addition, we learn the weighting model through\\nmeta-learning. Our methods can be applied to various transfer learning\\napproaches, it performs well not only in multi-task learning but also in\\npre-training and fine-tuning. Comprehensive experiments on multiple downstream\\ntasks demonstrate that the proposed methods can effectively combine auxiliary\\ntasks with the target task and significantly improve the performance compared\\nto state-of-the-art methods.  \n",
      "39                                                                                                                                                                                                                                                                                                                                                                                                                                                                                                                                                                                                                                                                                                                                                                                                                                                                                      Graph representation learning plays a vital role in processing\\ngraph-structured data. However, prior arts on graph representation learning\\nheavily rely on labeling information. To overcome this problem, inspired by the\\nrecent success of graph contrastive learning and Siamese networks in visual\\nrepresentation learning, we propose a novel self-supervised approach in this\\npaper to learn node representations by enhancing Siamese self-distillation with\\nmulti-scale contrastive learning. Specifically, we first generate two augmented\\nviews from the input graph based on local and global perspectives. Then, we\\nemploy two objectives called cross-view and cross-network contrastiveness to\\nmaximize the agreement between node representations across different views and\\nnetworks. To demonstrate the effectiveness of our approach, we perform\\nempirical experiments on five real-world datasets. Our method not only achieves\\nnew state-of-the-art results but also surpasses some semi-supervised\\ncounterparts by large margins. Code is made available at\\nhttps://github.com/GRAND-Lab/MERIT  \n",
      "40                                                                                                                                                                                                                                                                                                                                                                                                                                                                                                                                                                                                                                                                                                                                                                                                                                                                                                                                                                                Recent achievements in end-to-end deep learning have encouraged the\\nexploration of tasks dealing with highly structured data with unified deep\\nnetwork models. Having such models for compressing audio signals has been\\nchallenging since it requires discrete representations that are not easy to\\ntrain with end-to-end backpropagation. In this paper, we present an end-to-end\\ndeep learning approach that combines recurrent neural networks (RNNs) within\\nthe training strategy of variational autoencoders (VAEs) with a binary\\nrepresentation of the latent space. We apply a reparametrization trick for the\\nBernoulli distribution for the discrete representations, which allows smooth\\nbackpropagation. In addition, our approach allows the separation of the encoder\\nand decoder, which is necessary for compression tasks. To our best knowledge,\\nthis is the first end-to-end learning for a single audio compression model with\\nRNNs, and our model achieves a Signal to Distortion Ratio (SDR) of 20.54.  \n",
      "41                                                                                                                                                                                                                                                                                                                                                                                                                                                                                                                                                                                                                                                                                                                                                                                                                                                     Graph convolutional networks are becoming indispensable for deep learning\\nfrom graph-structured data. Most of the existing graph convolutional networks\\nshare two big shortcomings. First, they are essentially low-pass filters, thus\\nthe potentially useful middle and high frequency band of graph signals are\\nignored. Second, the bandwidth of existing graph convolutional filters is\\nfixed. Parameters of a graph convolutional filter only transform the graph\\ninputs without changing the curvature of a graph convolutional filter function.\\nIn reality, we are uncertain about whether we should retain or cut off the\\nfrequency at a certain point unless we have expert domain knowledge. In this\\npaper, we propose Automatic Graph Convolutional Networks (AutoGCN) to capture\\nthe full spectrum of graph signals and automatically update the bandwidth of\\ngraph convolutional filters. While it is based on graph spectral theory, our\\nAutoGCN is also localized in space and has a spatial form. Experimental results\\nshow that AutoGCN achieves significant improvement over baseline methods which\\nonly work as low-pass filters.  \n",
      "42                                                                                                                                                                                                                                                                                                                                                                                                                                                                                                                                                                                                                                                                                                                                                                                                                   Multi-relational graph is a ubiquitous and important data structure, allowing\\nflexible representation of multiple types of interactions and relations between\\nentities. Similar to other graph-structured data, link prediction is one of the\\nmost important tasks on multi-relational graphs and is often used for knowledge\\ncompletion. When related graphs coexist, it is of great benefit to build a\\nlarger graph via integrating the smaller ones. The integration requires\\npredicting hidden relational connections between entities belonged to different\\ngraphs (inter-domain link prediction). However, this poses a real challenge to\\nexisting methods that are exclusively designed for link prediction between\\nentities of the same graph only (intra-domain link prediction). In this study,\\nwe propose a new approach to tackle the inter-domain link prediction problem by\\nsoftly aligning the entity distributions between different domains with optimal\\ntransport and maximum mean discrepancy regularizers. Experiments on real-world\\ndatasets show that optimal transport regularizer is beneficial and considerably\\nimproves the performance of baseline methods.  \n",
      "43                                                                                                                                                                                                                                                                                                                                                                                                                                                    Graph representation learning has attracted a surge of interest recently,\\nwhose target at learning discriminant embedding for each node in the graph.\\nMost of these representation methods focus on supervised learning and heavily\\ndepend on label information. However, annotating graphs are expensive to obtain\\nin the real world, especially in specialized domains (i.e. biology), as it\\nneeds the annotator to have the domain knowledge to label the graph. To\\napproach this problem, self-supervised learning provides a feasible solution\\nfor graph representation learning. In this paper, we propose a Multi-Level\\nGraph Contrastive Learning (MLGCL) framework for learning robust representation\\nof graph data by contrasting space views of graphs. Specifically, we introduce\\na novel contrastive view - topological and feature space views. The original\\ngraph is first-order approximation structure and contains uncertainty or error,\\nwhile the $k$NN graph generated by encoding features preserves high-order\\nproximity. Thus $k$NN graph generated by encoding features not only provide a\\ncomplementary view, but is more suitable to GNN encoder to extract discriminant\\nrepresentation. Furthermore, we develop a multi-level contrastive mode to\\npreserve the local similarity and semantic similarity of graph-structured data\\nsimultaneously. Extensive experiments indicate MLGCL achieves promising results\\ncompared with the existing state-of-the-art graph representation learning\\nmethods on seven datasets.  \n",
      "44                                                                                                                                                                                                                                                                                                                                                                                                                    Various non-trivial spaces are becoming popular for embedding structured data\\nsuch as graphs, texts, or images. Following spherical and hyperbolic spaces,\\nmore general product spaces have been proposed. However, searching for the best\\nconfiguration of product space is a resource-intensive procedure, which reduces\\nthe practical applicability of the idea. We generalize the concept of product\\nspace and introduce an overlapping space that does not have the configuration\\nsearch problem. The main idea is to allow subsets of coordinates to be shared\\nbetween spaces of different types (Euclidean, hyperbolic, spherical). As a\\nresult, parameter optimization automatically learns the optimal configuration.\\nAdditionally, overlapping spaces allow for more compact representations since\\ntheir geometry is more complex. Our experiments confirm that overlapping spaces\\noutperform the competitors in graph embedding tasks. Here, we consider both\\ndistortion setup, where the aim is to preserve distances, and ranking setup,\\nwhere the relative order should be preserved. The proposed method effectively\\nsolves the problem and outperforms the competitors in both settings. We also\\nperform an empirical analysis in a realistic information retrieval task, where\\nwe compare all spaces by incorporating them into DSSM. In this case, the\\nproposed overlapping space consistently achieves nearly optimal results without\\nany configuration tuning. This allows for reducing training time, which can be\\nsignificant in large-scale applications.  \n",
      "45         Relational databases are the de facto standard for storing and querying\\nstructured data, and extracting insights from structured data requires advanced\\nanalytics. Deep neural networks (DNNs) have achieved super-human prediction\\nperformance in particular data types, e.g., images. However, existing DNNs may\\nnot produce meaningful results when applied to structured data. The reason is\\nthat there are correlations and dependencies across combinations of attribute\\nvalues in a table, and these do not follow simple additive patterns that can be\\neasily mimicked by a DNN. The number of possible such cross features is\\ncombinatorial, making them computationally prohibitive to model. Furthermore,\\nthe deployment of learning models in real-world applications has also\\nhighlighted the need for interpretability, especially for high-stakes\\napplications, which remains another issue of concern to DNNs.\\n  In this paper, we present ARM-Net, an adaptive relation modeling network\\ntailored for structured data, and a lightweight framework ARMOR based on\\nARM-Net for relational data analytics. The key idea is to model feature\\ninteractions with cross features selectively and dynamically, by first\\ntransforming the input features into exponential space, and then determining\\nthe interaction order and interaction weights adaptively for each cross\\nfeature. We propose a novel sparse attention mechanism to dynamically generate\\nthe interaction weights given the input tuple, so that we can explicitly model\\ncross features of arbitrary orders with noisy features filtered selectively.\\nThen during model inference, ARM-Net can specify the cross features being used\\nfor each prediction for higher accuracy and better interpretability. Our\\nextensive experiments on real-world datasets demonstrate that ARM-Net\\nconsistently outperforms existing models and provides more interpretable\\npredictions for data-driven decision making.  \n",
      "46                                                                                                                                                                                                                                                                                                                                                                                                                                                                                                                                                                                                                                                                                                                                                                                                                                                                                                                                                                                                                                                                                                                                                                                                                                                                                                                                                                                                                                                                                                                            We propose a model for hierarchical structured data as an extension to the\\nstochastic temporal convolutional network. The proposed model combines an\\nautoregressive model with a hierarchical variational autoencoder and\\ndownsampling to achieve superior computational complexity. We evaluate the\\nproposed model on two different types of sequential data: speech and\\nhandwritten text. The results are promising with the proposed model achieving\\nstate-of-the-art performance.  \n",
      "47                                                                                                                                                                                                                                                                             Graph neural networks have recently achieved remarkable success in\\nrepresenting graph-structured data, with rapid progress in both the node\\nembedding and graph pooling methods. Yet, they mostly focus on capturing\\ninformation from the nodes considering their connectivity, and not much work\\nhas been done in representing the edges, which are essential components of a\\ngraph. However, for tasks such as graph reconstruction and generation, as well\\nas graph classification tasks for which the edges are important for\\ndiscrimination, accurately representing edges of a given graph is crucial to\\nthe success of the graph representation learning. To this end, we propose a\\nnovel edge representation learning framework based on Dual Hypergraph\\nTransformation (DHT), which transforms the edges of a graph into the nodes of a\\nhypergraph. This dual hypergraph construction allows us to apply message\\npassing techniques for node representations to edges. After obtaining edge\\nrepresentations from the hypergraphs, we then cluster or drop edges to obtain\\nholistic graph-level edge representations. We validate our edge representation\\nlearning method with hypergraphs on diverse graph datasets for graph\\nrepresentation and generation performance, on which our method largely\\noutperforms existing graph representation learning methods. Moreover, our edge\\nrepresentation learning and pooling method also largely outperforms\\nstate-of-the-art graph pooling methods on graph classification, not only\\nbecause of its accurate edge representation learning, but also due to its\\nlossless compression of the nodes and removal of irrelevant edges for effective\\nmessage passing.  \n",
      "48                                                                                                                                                                                                                                                                                                                                                                                                                                                                                                                                                                                                                                                                                                                                                                                                                                                                                                                                                         In the world where big data reigns and there is plenty of hardware prepared\\nto gather a huge amount of non structured data, data acquisition is no longer a\\nproblem. Surveillance cameras are ubiquitous and they capture huge numbers of\\npeople walking across different scenes. However, extracting value from this\\ndata is challenging, specially for tasks that involve human images, such as\\nface recognition and person re-identification. Annotation of this kind of data\\nis a challenging and expensive task. In this work we propose a domain\\nadaptation workflow to allow CNNs that were trained in one domain to be applied\\nto another domain without the need for new annotation of the target data. Our\\nmethod uses AlignedReID++ as the baseline, trained using a Triplet loss with\\nbatch hard. Domain adaptation is done by using pseudo-labels generated using an\\nunsupervised learning strategy. Our results show that domain adaptation\\ntechniques really improve the performance of the CNN when applied in the target\\ndomain.  \n",
      "49                                                                                                                                                                                                                                                                                                                                                                                                                                                                                                                                     In representation learning on the graph-structured data, under heterophily\\n(or low homophily), many popular GNNs may fail to capture long-range\\ndependencies, which leads to their performance degradation. To solve the\\nabove-mentioned issue, we propose a graph convolutional networks with structure\\nlearning (GCN-SL), and furthermore, the proposed approach can be applied to\\nnode classification. The proposed GCN-SL contains two improvements:\\ncorresponding to node features and edges, respectively. In the aspect of node\\nfeatures, we propose an efficient-spectral-clustering (ESC) and an ESC with\\nanchors (ESC-ANCH) algorithms to efficiently aggregate feature representations\\nfrom all similar nodes. In the aspect of edges, we build a re-connected\\nadjacency matrix by using a special data preprocessing technique and similarity\\nlearning, and the re-connected adjacency matrix can be optimized directly along\\nwith GCN-SL parameters. Considering that the original adjacency matrix may\\nprovide misleading information for aggregation in GCN, especially the graphs\\nbeing with a low level of homophily. The proposed GCN-SL can aggregate feature\\nrepresentations from nearby nodes via re-connected adjacency matrix and is\\napplied to graphs with various levels of homophily. Experimental results on a\\nwide range of benchmark datasets illustrate that the proposed GCN-SL\\noutperforms the stateof-the-art GNN counterparts.  \n"
     ]
    },
    {
     "data": {
      "text/plain": [
       "50"
      ]
     },
     "execution_count": 51,
     "metadata": {},
     "output_type": "execute_result"
    }
   ],
   "source": [
    "show= arxiv_data.iloc[:,:50]\n",
    "print(show)\n",
    "\n",
    "len(show)\n",
    "show2=arxiv_data.head(50)\n",
    "print(show2)\n",
    "len(show2)"
   ]
  },
  {
   "cell_type": "code",
   "execution_count": 3,
   "id": "6a912841",
   "metadata": {},
   "outputs": [
    {
     "data": {
      "text/html": [
       "<div>\n",
       "<style scoped>\n",
       "    .dataframe tbody tr th:only-of-type {\n",
       "        vertical-align: middle;\n",
       "    }\n",
       "\n",
       "    .dataframe tbody tr th {\n",
       "        vertical-align: top;\n",
       "    }\n",
       "\n",
       "    .dataframe thead th {\n",
       "        text-align: right;\n",
       "    }\n",
       "</style>\n",
       "<table border=\"1\" class=\"dataframe\">\n",
       "  <thead>\n",
       "    <tr style=\"text-align: right;\">\n",
       "      <th></th>\n",
       "      <th>terms</th>\n",
       "      <th>titles</th>\n",
       "      <th>abstracts</th>\n",
       "    </tr>\n",
       "  </thead>\n",
       "  <tbody>\n",
       "    <tr>\n",
       "      <th>0</th>\n",
       "      <td>['cs.LG']</td>\n",
       "      <td>Multi-Level Attention Pooling for Graph Neural...</td>\n",
       "      <td>Graph neural networks (GNNs) have been widely ...</td>\n",
       "    </tr>\n",
       "    <tr>\n",
       "      <th>1</th>\n",
       "      <td>['cs.LG', 'cs.AI']</td>\n",
       "      <td>Decision Forests vs. Deep Networks: Conceptual...</td>\n",
       "      <td>Deep networks and decision forests (such as ra...</td>\n",
       "    </tr>\n",
       "    <tr>\n",
       "      <th>2</th>\n",
       "      <td>['cs.LG', 'cs.CR', 'stat.ML']</td>\n",
       "      <td>Power up! Robust Graph Convolutional Network v...</td>\n",
       "      <td>Graph convolutional networks (GCNs) are powerf...</td>\n",
       "    </tr>\n",
       "    <tr>\n",
       "      <th>3</th>\n",
       "      <td>['cs.LG', 'cs.CR']</td>\n",
       "      <td>Releasing Graph Neural Networks with Different...</td>\n",
       "      <td>With the increasing popularity of Graph Neural...</td>\n",
       "    </tr>\n",
       "    <tr>\n",
       "      <th>4</th>\n",
       "      <td>['cs.LG']</td>\n",
       "      <td>Recurrence-Aware Long-Term Cognitive Network f...</td>\n",
       "      <td>Machine learning solutions for pattern classif...</td>\n",
       "    </tr>\n",
       "  </tbody>\n",
       "</table>\n",
       "</div>"
      ],
      "text/plain": [
       "                           terms  \\\n",
       "0                      ['cs.LG']   \n",
       "1             ['cs.LG', 'cs.AI']   \n",
       "2  ['cs.LG', 'cs.CR', 'stat.ML']   \n",
       "3             ['cs.LG', 'cs.CR']   \n",
       "4                      ['cs.LG']   \n",
       "\n",
       "                                              titles  \\\n",
       "0  Multi-Level Attention Pooling for Graph Neural...   \n",
       "1  Decision Forests vs. Deep Networks: Conceptual...   \n",
       "2  Power up! Robust Graph Convolutional Network v...   \n",
       "3  Releasing Graph Neural Networks with Different...   \n",
       "4  Recurrence-Aware Long-Term Cognitive Network f...   \n",
       "\n",
       "                                           abstracts  \n",
       "0  Graph neural networks (GNNs) have been widely ...  \n",
       "1  Deep networks and decision forests (such as ra...  \n",
       "2  Graph convolutional networks (GCNs) are powerf...  \n",
       "3  With the increasing popularity of Graph Neural...  \n",
       "4  Machine learning solutions for pattern classif...  "
      ]
     },
     "execution_count": 3,
     "metadata": {},
     "output_type": "execute_result"
    }
   ],
   "source": [
    "arxiv_data.head()"
   ]
  },
  {
   "cell_type": "markdown",
   "id": "796e8c0b",
   "metadata": {},
   "source": [
    "## Data Cleaning and Preprocessing"
   ]
  },
  {
   "cell_type": "code",
   "execution_count": 4,
   "id": "0f6ce7b0",
   "metadata": {},
   "outputs": [
    {
     "data": {
      "text/plain": [
       "(56181, 3)"
      ]
     },
     "execution_count": 4,
     "metadata": {},
     "output_type": "execute_result"
    }
   ],
   "source": [
    "arxiv_data.shape"
   ]
  },
  {
   "cell_type": "code",
   "execution_count": 5,
   "id": "9dd86c28",
   "metadata": {},
   "outputs": [
    {
     "data": {
      "text/plain": [
       "terms        0\n",
       "titles       0\n",
       "abstracts    0\n",
       "dtype: int64"
      ]
     },
     "execution_count": 5,
     "metadata": {},
     "output_type": "execute_result"
    }
   ],
   "source": [
    "arxiv_data.isnull().sum()"
   ]
  },
  {
   "cell_type": "code",
   "execution_count": 6,
   "id": "efcdf227",
   "metadata": {},
   "outputs": [
    {
     "data": {
      "text/plain": [
       "15054"
      ]
     },
     "execution_count": 6,
     "metadata": {},
     "output_type": "execute_result"
    }
   ],
   "source": [
    "arxiv_data.duplicated().sum()"
   ]
  },
  {
   "cell_type": "code",
   "execution_count": 7,
   "id": "c14beaba",
   "metadata": {},
   "outputs": [
    {
     "name": "stdout",
     "output_type": "stream",
     "text": [
      "labels : ['cs.LG' 'cs.AI' 'cs.CR' ... 'D.1.3; G.4; I.2.8; I.2.11; I.5.3; J.3'\n",
      " '68T07, 68T45, 68T10, 68T50, 68U35' 'I.2.0; G.3']\n",
      "lenght : 1177\n"
     ]
    }
   ],
   "source": [
    "# getting unique labels\n",
    "labels_column = arxiv_data['terms'].apply(literal_eval)\n",
    "labels = labels_column.explode().unique()\n",
    "print(\"labels :\",labels)\n",
    "print(\"lenght :\",len(labels))"
   ]
  },
  {
   "cell_type": "code",
   "execution_count": 8,
   "id": "d52c4165",
   "metadata": {},
   "outputs": [
    {
     "name": "stdout",
     "output_type": "stream",
     "text": [
      "There are 41105 rows in the deduplicated dataset.\n",
      "2503\n",
      "3401\n"
     ]
    }
   ],
   "source": [
    "# remove duplicate entries based on the \"titles\" (terms) column\n",
    "# This filters the DataFrame, keeping only the rows where the titles are not duplicated.\n",
    "arxiv_data = arxiv_data[~arxiv_data['titles'].duplicated()]\n",
    "print(f\"There are {len(arxiv_data)} rows in the deduplicated dataset.\")\n",
    "# There are some terms with occurrence as low as 1.\n",
    "print(sum(arxiv_data['terms'].value_counts()==1))\n",
    "# how many unique terms\n",
    "print(arxiv_data['terms'].nunique())"
   ]
  },
  {
   "cell_type": "code",
   "execution_count": 9,
   "id": "5883bdf4",
   "metadata": {},
   "outputs": [
    {
     "data": {
      "text/plain": [
       "(38602, 3)"
      ]
     },
     "execution_count": 9,
     "metadata": {},
     "output_type": "execute_result"
    }
   ],
   "source": [
    "# Filtering the rare terms. (it keeps only those rows where the \"terms\" value occurs more than once in the original DataFrame.)\n",
    "arxiv_data_filtered = arxiv_data.groupby('terms').filter(lambda x: len(x) > 1)\n",
    "arxiv_data_filtered.shape"
   ]
  },
  {
   "cell_type": "code",
   "execution_count": 10,
   "id": "a8e35864",
   "metadata": {},
   "outputs": [
    {
     "data": {
      "text/plain": [
       "array([list(['cs.LG']), list(['cs.LG', 'cs.AI']),\n",
       "       list(['cs.LG', 'cs.CR', 'stat.ML'])], dtype=object)"
      ]
     },
     "execution_count": 10,
     "metadata": {},
     "output_type": "execute_result"
    }
   ],
   "source": [
    "# It evaluates the given string containing a Python literal or container display (e.g., a list or dictionary) and returns the corresponding Python object.\n",
    "arxiv_data_filtered['terms'] = arxiv_data_filtered['terms'].apply(lambda x: literal_eval(x))\n",
    "arxiv_data_filtered['terms'].values[:3]"
   ]
  },
  {
   "cell_type": "markdown",
   "id": "22ba3861",
   "metadata": {},
   "source": [
    "## train and test split."
   ]
  },
  {
   "cell_type": "code",
   "execution_count": 11,
   "id": "fd52b83c",
   "metadata": {},
   "outputs": [
    {
     "name": "stdout",
     "output_type": "stream",
     "text": [
      "Number of rows in training set: 34741\n",
      "Number of rows in validation set: 1930\n",
      "Number of rows in test set: 1931\n"
     ]
    }
   ],
   "source": [
    "test_split = 0.1\n",
    "\n",
    "# Initial train and test split.\n",
    "# The stratify parameter ensures that the splitting is done in a way that preserves the same distribution of labels (terms) in both the training and test sets.\n",
    "train_df, test_df = train_test_split(arxiv_data_filtered,test_size=test_split,stratify=arxiv_data_filtered[\"terms\"].values)\n",
    "\n",
    "# Splitting the test set further into validation\n",
    "# and new test sets.\n",
    "val_df = test_df.sample(frac=0.5)\n",
    "test_df.drop(val_df.index, inplace=True)\n",
    "\n",
    "print(f\"Number of rows in training set: {len(train_df)}\")\n",
    "print(f\"Number of rows in validation set: {len(val_df)}\")\n",
    "print(f\"Number of rows in test set: {len(test_df)}\")"
   ]
  },
  {
   "cell_type": "code",
   "execution_count": 12,
   "id": "ee848e0d",
   "metadata": {},
   "outputs": [
    {
     "name": "stdout",
     "output_type": "stream",
     "text": [
      "WARNING:tensorflow:From c:\\Users\\AmiMistry\\anaconda3\\Lib\\site-packages\\keras\\src\\backend.py:873: The name tf.get_default_graph is deprecated. Please use tf.compat.v1.get_default_graph instead.\n",
      "\n",
      "WARNING:tensorflow:From c:\\Users\\AmiMistry\\anaconda3\\Lib\\site-packages\\keras\\src\\utils\\tf_utils.py:492: The name tf.ragged.RaggedTensorValue is deprecated. Please use tf.compat.v1.ragged.RaggedTensorValue instead.\n",
      "\n",
      "Vocabulary:\n",
      "\n",
      "['[UNK]', 'cs.CV', 'cs.LG', 'stat.ML', 'cs.AI', 'eess.IV', 'cs.RO', 'cs.CL', 'cs.NE', 'cs.GR', 'cs.CR', 'math.OC', 'eess.SP', 'cs.SI', 'cs.MM', 'cs.SY', 'cs.IR', 'eess.SY', 'cs.MA', 'cs.HC', 'math.IT', 'cs.IT', 'cs.DC', 'stat.AP', 'cs.CY', 'stat.ME', 'stat.TH', 'math.ST', 'eess.AS', 'cs.SD', 'cs.DS', 'q-bio.QM', 'q-bio.NC', 'stat.CO', 'cs.CG', 'cs.NI', 'cs.GT', 'math.NA', 'cs.SE', 'cs.NA', 'I.2.6', 'physics.chem-ph', 'cs.DB', 'physics.comp-ph', 'cond-mat.dis-nn', 'q-bio.BM', 'math.PR', 'cs.PL', 'cs.LO', '68T45', 'cs.AR', 'physics.data-an', 'quant-ph', 'I.2.10', 'cs.CE', 'cond-mat.stat-mech', 'q-fin.ST', 'I.4.6', 'math.DS', 'cs.CC', '68T05', 'physics.soc-ph', 'physics.ao-ph', 'physics.med-ph', 'cs.PF', 'q-bio.GN', 'econ.EM', 'cs.DM', 'I.4.8', 'astro-ph.IM', 'physics.geo-ph', 'physics.flu-dyn', 'math.AT', 'hep-ex', 'I.4', '68U10', 'q-fin.TR', 'cs.FL', 'I.5.4', 'I.2', 'physics.optics', 'cond-mat.mtrl-sci', 'I.4.9', '68T10', 'I.4; I.5', '68T07', 'q-fin.CP', 'math.CO', 'math.AP', 'I.2.6; I.2.8', '65D19', 'q-bio.PE', 'physics.app-ph', 'nlin.CD', 'cs.MS', 'I.4.5', 'I.2.6; I.5.1', 'I.2.10; I.4; I.5', 'I.2.0; I.2.6', '68U01', '68T01', 'hep-ph', 'cs.SC', 'cs.ET', 'K.3.2', 'I.2; I.5', 'I.2.8', 'I.2.10; I.4.8', '68T30', '68', 'q-fin.GN', 'q-fin.EC', 'q-bio.MN', 'econ.GN', 'I.4.9; I.5.4', 'I.4.0', 'I.2; I.4; I.5', 'I.2.6; I.2.7', '68T99', '68Q32', '62H30', 'q-fin.RM', 'q-fin.PM', 'q-bio.TO', 'q-bio.OT', 'physics.plasm-ph', 'physics.class-ph', 'physics.bio-ph', 'nlin.AO', 'math.SP', 'math.MP', 'math.LO', 'math.FA', 'math-ph', 'cs.DL', 'cond-mat.soft', 'I.5.2', 'I.4.6; I.4.8', 'I.4.4', 'I.4.3', 'I.4.1', 'I.3.7', 'I.2; J.2', 'I.2; I.2.6; I.2.7', 'I.2.7', 'I.2.6; I.5.4', 'I.2.6; I.2.9', 'I.2.6; I.2.7; H.3.1; H.3.3', 'I.2.6; I.2.10', 'I.2.6, I.5.4', 'I.2.1; J.3', 'I.2.10; I.5.1; I.4.8', 'I.2.10; I.4.8; I.5.4', 'I.2.10; I.2.6', 'I.2.1', 'H.3.1; I.2.6; I.2.7', 'H.3.1; H.3.3; I.2.6; I.2.7', 'G.3', 'F.2.2; I.2.7', 'E.5; E.4; E.2; H.1.1; F.1.1; F.1.3', '68Txx', '62H99', '62H35', '60L10, 60L20', '14J60 (Primary) 14F05, 14J26 (Secondary)']\n"
     ]
    }
   ],
   "source": [
    "# creates a TensorFlow RaggedTensor (terms) from the values in the \"terms\" column of the train_df DataFrame. A RaggedTensor is a tensor with non-uniform shapes\n",
    "terms = tf.ragged.constant(train_df['terms'].values)\n",
    "# This line creates a StringLookup layer in TensorFlow. The purpose of this layer is to map strings to integer indices and vice versa. The output_mode=\"multi_hot\" indicates that the layer will output a multi-hot encoded representation of the input strings.\n",
    "lookup = tf.keras.layers.StringLookup(output_mode='multi_hot')\n",
    "# This step adapts the StringLookup layer to the unique values in the \"terms\" column, building the vocabulary.\n",
    "lookup.adapt(terms)\n",
    "# retrieve vocabulary\n",
    "vocab = lookup.get_vocabulary()\n",
    "\n",
    "print(\"Vocabulary:\\n\")\n",
    "print(vocab)"
   ]
  },
  {
   "cell_type": "code",
   "execution_count": 13,
   "id": "bd32a8c9",
   "metadata": {},
   "outputs": [
    {
     "name": "stdout",
     "output_type": "stream",
     "text": [
      "Original label: ['cs.LG', 'stat.ML']\n",
      "Label-binarized representation: [[0. 0. 1. 1. 0. 0. 0. 0. 0. 0. 0. 0. 0. 0. 0. 0. 0. 0. 0. 0. 0. 0. 0. 0.\n",
      "  0. 0. 0. 0. 0. 0. 0. 0. 0. 0. 0. 0. 0. 0. 0. 0. 0. 0. 0. 0. 0. 0. 0. 0.\n",
      "  0. 0. 0. 0. 0. 0. 0. 0. 0. 0. 0. 0. 0. 0. 0. 0. 0. 0. 0. 0. 0. 0. 0. 0.\n",
      "  0. 0. 0. 0. 0. 0. 0. 0. 0. 0. 0. 0. 0. 0. 0. 0. 0. 0. 0. 0. 0. 0. 0. 0.\n",
      "  0. 0. 0. 0. 0. 0. 0. 0. 0. 0. 0. 0. 0. 0. 0. 0. 0. 0. 0. 0. 0. 0. 0. 0.\n",
      "  0. 0. 0. 0. 0. 0. 0. 0. 0. 0. 0. 0. 0. 0. 0. 0. 0. 0. 0. 0. 0. 0. 0. 0.\n",
      "  0. 0. 0. 0. 0. 0. 0. 0. 0. 0. 0. 0. 0. 0. 0. 0. 0. 0. 0. 0. 0.]]\n"
     ]
    }
   ],
   "source": [
    "sample_label = train_df[\"terms\"].iloc[0]\n",
    "print(f\"Original label: {sample_label}\")\n",
    "\n",
    "label_binarized = lookup([sample_label])\n",
    "print(f\"Label-binarized representation: {label_binarized}\")"
   ]
  },
  {
   "cell_type": "code",
   "execution_count": 14,
   "id": "120e17de",
   "metadata": {},
   "outputs": [
    {
     "data": {
      "text/plain": [
       "'\\nIn summary, the make_dataset function is designed to create a \\ndataset suitable for training a model. It takes a dataframe as input, \\nassumes it has \"abstracts\" and \"terms\" columns, and creates a dataset of \\nbatches where each batch consists of abstract \\nsequences and their corresponding binarized label sequences. \\n'"
      ]
     },
     "execution_count": 14,
     "metadata": {},
     "output_type": "execute_result"
    }
   ],
   "source": [
    "# following lines::\n",
    "# which is used for automatic adjustment of resource usage by TensorFlow's data loading pipeline.\n",
    "\n",
    "#max_seqlen: Maximum sequence length. It indicates the maximum length allowed for sequences.\n",
    "max_seqlen = 150\n",
    "#batch_size: Batch size. It specifies the number of samples to use in each iteration.\n",
    "batch_size = 128\n",
    "#padding_token: A token used for padding sequences.\n",
    "padding_token = \"<pad>\"\n",
    "#auto = tf.data.AUTOTUNE: auto is assigned the value tf.data.AUTOTUNE,\n",
    "auto = tf.data.AUTOTUNE\n",
    "\n",
    "def make_dataset(dataframe, is_train=True):\n",
    "    # creating sequences of labesls\n",
    "    labels = tf.ragged.constant(dataframe[\"terms\"].values)\n",
    "    #This line uses the previously defined lookup layer to convert the ragged tensor of labels into a binarized representation. The resulting label_binarized is a NumPy array.\n",
    "    label_binarized = lookup(labels).numpy()\n",
    "    # creating sequences of text.\n",
    "    dataset = tf.data.Dataset.from_tensor_slices((dataframe[\"abstracts\"].values, label_binarized))\n",
    "    # shuffling data basis on condition\n",
    "    dataset = dataset.shuffle(batch_size * 10) if is_train else dataset\n",
    "    return dataset.batch(batch_size)\n",
    "\n",
    "\"\"\"\n",
    "In summary, the make_dataset function is designed to create a \n",
    "dataset suitable for training a model. It takes a dataframe as input, \n",
    "assumes it has \"abstracts\" and \"terms\" columns, and creates a dataset of \n",
    "batches where each batch consists of abstract \n",
    "sequences and their corresponding binarized label sequences. \n",
    "\"\"\""
   ]
  },
  {
   "cell_type": "code",
   "execution_count": 15,
   "id": "6c36ee52",
   "metadata": {},
   "outputs": [],
   "source": [
    "train_dataset = make_dataset(train_df, is_train=True)\n",
    "validation_dataset = make_dataset(val_df, is_train=False)\n",
    "test_dataset = make_dataset(test_df, is_train=False)"
   ]
  },
  {
   "cell_type": "code",
   "execution_count": 16,
   "id": "d409c7bf",
   "metadata": {},
   "outputs": [
    {
     "name": "stdout",
     "output_type": "stream",
     "text": [
      "Abstract: Abstract 1\n",
      "Label(s): [[b'[UNK]']]\n",
      " \n",
      "Abstract: Abstract 2\n",
      "Label(s): [[b'label1']]\n",
      " \n",
      "Abstract: Abstract 3\n",
      "Label(s): [[b'label2']]\n",
      " \n",
      "Abstract: Abstract 4\n",
      "Label(s): [[b'[UNK]']\n",
      " [b'label1']]\n",
      " \n",
      "Abstract: Abstract 5\n",
      "Label(s): [[b'label1']\n",
      " [b'label2']]\n",
      " \n"
     ]
    }
   ],
   "source": [
    "\n",
    "# This code snippet is iterating through batches of the training dataset and printing the abstract text along with the corresponding labels.\n",
    "text_batch = [\"Abstract 1\", \"Abstract 2\", \"Abstract 3\", \"Abstract 4\", \"Abstract 5\"]\n",
    "label_batch = tf.constant([[1, 0, 0], [0, 1, 0], [0, 0, 1], [1, 1, 0], [0, 1, 1]])\n",
    "\n",
    "# Create the StringLookup layer and its inverse\n",
    "label_lookup = tf.keras.layers.StringLookup(vocabulary=[\"label1\", \"label2\", \"label3\"], mask_token=None)\n",
    "inverse_label_lookup = tf.keras.layers.StringLookup(vocabulary=label_lookup.get_vocabulary(), invert=True, mask_token=None)\n",
    "\n",
    "# Define the invert_multi_hot function\n",
    "def invert_multi_hot(label):\n",
    "    indices = tf.where(label > 0)  # Get indices of non-zero elements\n",
    "    inverted_labels = inverse_label_lookup(indices)\n",
    "    return inverted_labels\n",
    "\n",
    "# This code snippet is iterating through batches of the training dataset and printing the abstract text along with the corresponding labels.\n",
    "# Iterate through the batch and print the abstract and corresponding labels\n",
    "for i, text in enumerate(text_batch[:5]):\n",
    "    label = label_batch[i].numpy()[None, ...]\n",
    "    print(f\"Abstract: {text}\")\n",
    "    print(f\"Label(s): {invert_multi_hot(label[0])}\")\n",
    "    print(\" \")\n",
    "\n",
    "\n",
    "\n"
   ]
  },
  {
   "cell_type": "code",
   "execution_count": 17,
   "id": "3881b07a",
   "metadata": {},
   "outputs": [
    {
     "name": "stdout",
     "output_type": "stream",
     "text": [
      "159102\n"
     ]
    }
   ],
   "source": [
    "# This code calculates the size of the vocabulary in the \"abstracts\" column of the train_df DataFrame.\n",
    "\n",
    "# Creating vocabulary with uniques words\n",
    "vocabulary = set()\n",
    "train_df[\"abstracts\"].str.lower().str.split().apply(vocabulary.update)\n",
    "vocabulary_size = len(vocabulary)\n",
    "print(vocabulary_size)"
   ]
  },
  {
   "cell_type": "markdown",
   "id": "4f8c291e",
   "metadata": {},
   "source": [
    "## Text Vectorization"
   ]
  },
  {
   "cell_type": "code",
   "execution_count": 18,
   "id": "13305e60",
   "metadata": {},
   "outputs": [],
   "source": [
    "# Initializes a TextVectorization layer\n",
    "text_vectorizer = layers.TextVectorization(max_tokens=vocabulary_size,ngrams=2,output_mode=\"tf_idf\")\n",
    "# `TextVectorization` layer needs to be adapted as per the vocabulary from our\n",
    "# training set.\n",
    "text_vectorizer.adapt(train_dataset.map(lambda text, label: text))"
   ]
  },
  {
   "cell_type": "code",
   "execution_count": 19,
   "id": "6b82682c",
   "metadata": {},
   "outputs": [],
   "source": [
    "\"\"\"\n",
    "Mapping Vectorization to Datasets: The code maps the text vectorization operation to \n",
    "each element of the training, validation, and test datasets. This ensures that the text\n",
    "data in each dataset is transformed into numerical vectors using the adapted TextVectorization layer.\n",
    "The num_parallel_calls parameter is used to parallelize the mapping process, and prefetch is \n",
    "applied to prefetch data batches \n",
    "for better performance.\n",
    "\"\"\"\n",
    "train_dataset = train_dataset.map(lambda text, label: (text_vectorizer(text), label), num_parallel_calls=auto).prefetch(auto)\n",
    "validation_dataset = validation_dataset.map(lambda text, label: (text_vectorizer(text), label), num_parallel_calls=auto).prefetch(auto)\n",
    "test_dataset = test_dataset.map(lambda text, label: (text_vectorizer(text), label), num_parallel_calls=auto).prefetch(auto)"
   ]
  },
  {
   "cell_type": "markdown",
   "id": "85485df2",
   "metadata": {},
   "source": [
    "## model training"
   ]
  },
  {
   "cell_type": "code",
   "execution_count": 20,
   "id": "1595fa1d",
   "metadata": {
    "scrolled": true
   },
   "outputs": [
    {
     "name": "stdout",
     "output_type": "stream",
     "text": [
      "WARNING:tensorflow:From c:\\Users\\AmiMistry\\anaconda3\\Lib\\site-packages\\keras\\src\\optimizers\\__init__.py:309: The name tf.train.Optimizer is deprecated. Please use tf.compat.v1.train.Optimizer instead.\n",
      "\n",
      "Epoch 1/20\n",
      "WARNING:tensorflow:From c:\\Users\\AmiMistry\\anaconda3\\Lib\\site-packages\\keras\\src\\engine\\base_layer_utils.py:384: The name tf.executing_eagerly_outside_functions is deprecated. Please use tf.compat.v1.executing_eagerly_outside_functions instead.\n",
      "\n",
      "272/272 [==============================] - 216s 771ms/step - loss: 0.0514 - binary_accuracy: 0.9818 - val_loss: 0.0188 - val_binary_accuracy: 0.9945\n",
      "Epoch 2/20\n",
      "272/272 [==============================] - 233s 857ms/step - loss: 0.0176 - binary_accuracy: 0.9950 - val_loss: 0.0184 - val_binary_accuracy: 0.9945\n",
      "Epoch 3/20\n",
      "272/272 [==============================] - 211s 760ms/step - loss: 0.0137 - binary_accuracy: 0.9959 - val_loss: 0.0188 - val_binary_accuracy: 0.9945\n",
      "Epoch 4/20\n",
      "272/272 [==============================] - 231s 847ms/step - loss: 0.0114 - binary_accuracy: 0.9965 - val_loss: 0.0194 - val_binary_accuracy: 0.9944\n",
      "Epoch 5/20\n",
      "272/272 [==============================] - 192s 705ms/step - loss: 0.0097 - binary_accuracy: 0.9971 - val_loss: 0.0197 - val_binary_accuracy: 0.9945\n",
      "Epoch 6/20\n",
      "272/272 [==============================] - 193s 708ms/step - loss: 0.0088 - binary_accuracy: 0.9974 - val_loss: 0.0204 - val_binary_accuracy: 0.9946\n",
      "Epoch 7/20\n",
      "272/272 [==============================] - 214s 787ms/step - loss: 0.0079 - binary_accuracy: 0.9977 - val_loss: 0.0206 - val_binary_accuracy: 0.9944\n"
     ]
    }
   ],
   "source": [
    "# creating shallow_mlp_model  (MLP)\n",
    "from tensorflow.keras.callbacks import EarlyStopping\n",
    "\n",
    "# Creating shallow_mlp_model (MLP) with dropout layers\n",
    "model1 = keras.Sequential([\n",
    "    # First hidden layer: 512 neurons, ReLU activation function, with dropout.\n",
    "    layers.Dense(512, activation=\"relu\"),\n",
    "    layers.Dropout(0.5),  # Adding dropout for regularization.\n",
    "\n",
    "    # Second hidden layer: 256 neurons, ReLU activation function, with dropout.\n",
    "    layers.Dense(256, activation=\"relu\"),\n",
    "    layers.Dropout(0.5),  # Adding dropout for regularization.\n",
    "\n",
    "    # Output layer: The number of neurons equals the vocabulary size (output vocabulary of the StringLookup layer), with a sigmoid activation function.\n",
    "    layers.Dense(lookup.vocabulary_size(), activation='sigmoid')\n",
    "])\n",
    "\n",
    "# Compile the model\n",
    "model1.compile(loss=\"binary_crossentropy\", optimizer='adam', metrics=['binary_accuracy'])\n",
    "\n",
    "# Add early stopping\n",
    "# Number of epochs with no improvement after which training will be stopped.\n",
    "# Restore weights from the epoch with the best value of the monitored quantity.\n",
    "early_stopping = EarlyStopping(patience=5,restore_best_weights=True)\n",
    "\n",
    "# Train the model\n",
    "# Add early stopping callback.verbose=1\n",
    "history = model1.fit(train_dataset,validation_data=validation_dataset,epochs=20,callbacks=[early_stopping])"
   ]
  },
  {
   "cell_type": "code",
   "execution_count": 21,
   "id": "1ccc3be2",
   "metadata": {
    "scrolled": true
   },
   "outputs": [
    {
     "data": {
      "image/png": "[encoded data removed]",
      "text/plain": [
       "<Figure size 640x480 with 1 Axes>"
      ]
     },
     "metadata": {},
     "output_type": "display_data"
    },
    {
     "data": {
      "image/png": "[encoded data removed]",
      "text/plain": [
       "<Figure size 640x480 with 1 Axes>"
      ]
     },
     "metadata": {},
     "output_type": "display_data"
    }
   ],
   "source": [
    "# plotting loss\n",
    "def plot_result(item):\n",
    "    plt.plot(history.history[item], label=item)\n",
    "    plt.plot(history.history[\"val_\" + item], label=\"val_\" + item)\n",
    "    plt.xlabel(\"Epochs\")\n",
    "    plt.ylabel(item)\n",
    "    plt.title(\"Train and Validation {} Over Epochs\".format(item), fontsize=14)\n",
    "    plt.legend()\n",
    "    plt.grid()\n",
    "    plt.show()\n",
    "\n",
    "\n",
    "plot_result(\"loss\")\n",
    "plot_result(\"binary_accuracy\")"
   ]
  },
  {
   "cell_type": "markdown",
   "id": "9864d7ce",
   "metadata": {},
   "source": [
    "## Model Evaluation"
   ]
  },
  {
   "cell_type": "code",
   "execution_count": 22,
   "id": "cebc1c9c",
   "metadata": {},
   "outputs": [
    {
     "name": "stdout",
     "output_type": "stream",
     "text": [
      "16/16 [==============================] - 4s 203ms/step - loss: 0.0172 - binary_accuracy: 0.9949\n",
      "16/16 [==============================] - 3s 151ms/step - loss: 0.0184 - binary_accuracy: 0.9945\n",
      "Categorical accuracy on the test set: 99.49%.\n",
      "Categorical accuracy on the validation set: 99.45%.\n"
     ]
    }
   ],
   "source": [
    "# model evaltuation on test and val dataset\n",
    "_, binary_acc1 = model1.evaluate(test_dataset)\n",
    "_, binary_acc2 = model1.evaluate(validation_dataset)\n",
    "\n",
    "print(f\"Categorical accuracy on the test set: {round(binary_acc1 * 100, 2)}%.\")\n",
    "print(f\"Categorical accuracy on the validation set: {round(binary_acc2 * 100, 2)}%.\")"
   ]
  },
  {
   "cell_type": "markdown",
   "id": "16f447f1",
   "metadata": {},
   "source": [
    "## Save Model and Text Vectorizer:"
   ]
  },
  {
   "cell_type": "code",
   "execution_count": 23,
   "id": "4434b752",
   "metadata": {},
   "outputs": [
    {
     "name": "stderr",
     "output_type": "stream",
     "text": [
      "c:\\Users\\AmiMistry\\anaconda3\\Lib\\site-packages\\keras\\src\\engine\\training.py:3103: UserWarning: You are saving your model as an HDF5 file via `model.save()`. This file format is considered legacy. We recommend using instead the native Keras format, e.g. `model.save('my_model.keras')`.\n",
      "  saving_api.save_model(\n"
     ]
    }
   ],
   "source": [
    "import pickle\n",
    "# Save the model\n",
    "model1.save(\"models/model.h5\")\n",
    "\n",
    "# Save the configuration of the text vectorizer\n",
    "saved_text_vectorizer_config = text_vectorizer.get_config()\n",
    "with open(\"models/text_vectorizer_config.pkl\", \"wb\") as f:\n",
    "    pickle.dump(saved_text_vectorizer_config, f)\n",
    "\n",
    "\n",
    "# Save the vocabulary\n",
    "with open(\"models/vocab.pkl\", \"wb\") as f:\n",
    "    pickle.dump(vocab, f)"
   ]
  },
  {
   "cell_type": "markdown",
   "id": "fceee66a",
   "metadata": {},
   "source": [
    "## Load Model and Text Vectorizer:"
   ]
  },
  {
   "cell_type": "code",
   "execution_count": 24,
   "id": "34e7d7f6",
   "metadata": {},
   "outputs": [],
   "source": [
    "\n",
    "\"\"\"\n",
    "from tensorflow import keras\n",
    "import pickle\n",
    "\n",
    "# Load the model\n",
    "loaded_model = keras.models.load_model(\"models/modelt.h5\")\n",
    "\n",
    "from tensorflow.keras.layers import TextVectorization\n",
    "\n",
    "# Load the configuration of the text vectorizer\n",
    "with open(\"models/text_vectorizer_configt.pkl\", \"rb\") as f:\n",
    "    saved_text_vectorizer_config = pickle.load(f)\n",
    "\n",
    "# Create a new TextVectorization layer with the saved configuration\n",
    "loaded_text_vectorizer = TextVectorization.from_config(saved_text_vectorizer_config)\n",
    "\n",
    "# Load the saved weights into the new TextVectorization layer\n",
    "with open(\"text_vectorizer_weights.pkl\", \"rb\") as f:\n",
    "    weights = pickle.load(f)\n",
    "\n",
    "# Assuming loaded_text_vectorizer is your TextVectorization layer\n",
    "# Check the expected number of weights in the loaded_text_vectorizer\n",
    "expected_num_weights = len(loaded_text_vectorizer.weights)\n",
    "\n",
    "if len(weights) != expected_num_weights:\n",
    "    print(f\"Expected {expected_num_weights} weights, but found {len(weights)}.\")\n",
    "    print(\"Make sure the weights file matches the structure of the loaded_text_vectorizer.\")\n",
    "else:\n",
    "    loaded_text_vectorizer.set_weights(weights)\n",
    "    print(\"Weights loaded successfully.\")\n",
    "\"\"\"\n",
    "    # this is the original code above 3 cells 30,32,33 are the replaced code\n",
    "from tensorflow import keras\n",
    "import pickle\n",
    "\n",
    "# Load the model\n",
    "loaded_model = keras.models.load_model(\"models/model.h5\")\n",
    "\n",
    "from tensorflow.keras.layers import TextVectorization\n",
    "\n",
    "# Load the configuration of the text vectorizer\n",
    "with open(\"text_vectorizer_config.pkl\", \"rb\") as f:\n",
    "    saved_text_vectorizer_config = pickle.load(f)\n",
    "\n",
    "# Create a new TextVectorization layer with the saved configuration\n",
    "loaded_text_vectorizer = TextVectorization.from_config(saved_text_vectorizer_config)\n",
    "\n",
    "# Load the saved weights into the new TextVectorization layer\n",
    "with open(\"text_vectorizer_weights.pkl\", \"rb\") as f:\n",
    "    weights = pickle.load(f)\n",
    "    loaded_text_vectorizer.set_weights(weights)"
   ]
  },
  {
   "cell_type": "code",
   "execution_count": 25,
   "id": "27e3fe39",
   "metadata": {},
   "outputs": [],
   "source": [
    "# Load the vocabulary\n",
    "with open(\"models/vocab.pkl\", \"rb\") as f:\n",
    "    loaded_vocab = pickle.load(f)\n"
   ]
  },
  {
   "cell_type": "markdown",
   "id": "506f9a17",
   "metadata": {},
   "source": [
    "## Model Prediction"
   ]
  },
  {
   "cell_type": "code",
   "execution_count": 26,
   "id": "8e2985e7",
   "metadata": {},
   "outputs": [],
   "source": [
    "def invert_multi_hot(encoded_labels):\n",
    "    \"\"\"Reverse a single multi-hot encoded label to a tuple of vocab terms.\"\"\"\n",
    "    hot_indices = np.argwhere(encoded_labels == 1.0)[..., 0]\n",
    "    return np.take(loaded_vocab, hot_indices)"
   ]
  },
  {
   "cell_type": "code",
   "execution_count": 27,
   "id": "76f5b374",
   "metadata": {},
   "outputs": [],
   "source": [
    "import numpy as np\n",
    "import tensorflow as tf\n",
    "\n",
    "def adjust_shape(preprocessed_abstract, target_shape):\n",
    "    current_shape = preprocessed_abstract.shape[1]\n",
    "    if current_shape < target_shape:\n",
    "        # Pad with zeros if the current shape is smaller\n",
    "        padding = np.zeros((preprocessed_abstract.shape[0], target_shape - current_shape))\n",
    "        adjusted_abstract = np.hstack((preprocessed_abstract, padding))\n",
    "    elif current_shape > target_shape:\n",
    "        # Trim if the current shape is larger\n",
    "        adjusted_abstract = preprocessed_abstract[:, :target_shape]\n",
    "    else:\n",
    "        adjusted_abstract = preprocessed_abstract\n",
    "    return adjusted_abstract\n",
    "\n",
    "def predict_category(abstract, model, vectorizer, label_lookup):\n",
    "    # Preprocess the abstract using the loaded text vectorizer\n",
    "    preprocessed_abstract = vectorizer([abstract])  # Using vectorizer as a callable to preprocess the text\n",
    "\n",
    "    # Debugging information to check the shapes\n",
    "    print(f\"Shape of preprocessed abstract: {preprocessed_abstract.shape}\")\n",
    "    print(f\"Expected input shape of the model: {model.input_shape}\")\n",
    "\n",
    "    # Adjust the shape to match the model input shape\n",
    "    adjusted_abstract = adjust_shape(preprocessed_abstract, model.input_shape[1])\n",
    "\n",
    "    # Make predictions using the loaded model\n",
    "    predictions = model.predict(adjusted_abstract)\n",
    "\n",
    "    # Convert predictions to human-readable labels\n",
    "    predicted_labels = label_lookup(np.round(predictions).astype(int)[0])\n",
    "\n",
    "    return predicted_labels\n"
   ]
  },
  {
   "cell_type": "code",
   "execution_count": 28,
   "id": "6f91a6e8",
   "metadata": {},
   "outputs": [
    {
     "name": "stdout",
     "output_type": "stream",
     "text": [
      "Shape of preprocessed abstract: (1, 100)\n",
      "Expected input shape of the model: (None, 159102)\n",
      "1/1 [==============================] - 0s 470ms/step\n",
      "Predicted Categories: ['cs.CV' 'cs.LG']\n"
     ]
    }
   ],
   "source": [
    "# Example usage\n",
    "new_abstract = '''Deep networks and decision forests (such as random forests and gradient\n",
    "boosted trees) are the leading machine learning methods for structured and\n",
    "tabular data, respectively. Many papers have empirically compared large numbers\n",
    "of classifiers on one or two different domains (e.g., on 100 different tabular\n",
    "data settings). However, a careful conceptual and empirical comparison of these\n",
    "two strategies using the most contemporary best practices has yet to be\n",
    "performed. Conceptually, we illustrate that both can be profitably viewed as\n",
    "\"partition and vote\" schemes. Specifically, the representation space that they\n",
    "both learn is a partitioning of feature space into a union of convex polytopes.\n",
    "For inference, each decides on the basis of votes from the activated nodes.\n",
    "This formulation allows for a unified basic understanding of the relationship\n",
    "between these methods. Empirically, we compare these two strategies on hundreds\n",
    "of tabular data settings, as well as several vision and auditory settings. Our\n",
    "focus is on datasets with at most 10,000 samples, which represent a large\n",
    "fraction of scientific and biomedical datasets. In general, we found forests to\n",
    "excel at tabular and structured data (vision and audition) with small sample\n",
    "sizes, whereas deep nets performed better on structured data with larger sample\n",
    "sizes. This suggests that further gains in both scenarios may be realized via\n",
    "further combining aspects of forests and networks. We will continue revising\n",
    "this technical report in the coming months with updated results.'''\n",
    "\n",
    "# Assuming 'loaded_model', 'loaded_text_vectorizer', and 'invert_multi_hot' are defined and loaded appropriately\n",
    "try:\n",
    "    predicted_categories = predict_category(new_abstract, loaded_model, loaded_text_vectorizer, invert_multi_hot)\n",
    "    print(\"Predicted Categories:\", predicted_categories)\n",
    "except ValueError as e:\n",
    "    print(e)\n"
   ]
  },
  {
   "cell_type": "code",
   "execution_count": 29,
   "id": "e13ef48a",
   "metadata": {},
   "outputs": [
    {
     "name": "stdout",
     "output_type": "stream",
     "text": [
      "Shape of preprocessed abstract: (1, 100)\n",
      "Expected input shape of the model: (None, 159102)\n",
      "1/1 [==============================] - 0s 51ms/step\n",
      "Predicted Categories: ['cs.CV' 'cs.LG']\n"
     ]
    }
   ],
   "source": [
    "# Example usage\n",
    "new_abstract = 'Deep networks and decision forests (such as random forests and gradient\\nboosted trees) are the leading machine learning methods for structured and\\ntabular data, respectively. Many papers have empirically compared large numbers\\nof classifiers on one or two different domains (e.g., on 100 different tabular\\ndata settings). However, a careful conceptual and empirical comparison of these\\ntwo strategies using the most contemporary best practices has yet to be\\nperformed. Conceptually, we illustrate that both can be profitably viewed as\\n\"partition and vote\" schemes. Specifically, the representation space that they\\nboth learn is a partitioning of feature space into a union of convex polytopes.\\nFor inference, each decides on the basis of votes from the activated nodes.\\nThis formulation allows for a unified basic understanding of the relationship\\nbetween these methods. Empirically, we compare these two strategies on hundreds\\nof tabular data settings, as well as several vision and auditory settings. Our\\nfocus is on datasets with at most 10,000 samples, which represent a large\\nfraction of scientific and biomedical datasets. In general, we found forests to\\nexcel at tabular and structured data (vision and audition) with small sample\\nsizes, whereas deep nets performed better on structured data with larger sample\\nsizes. This suggests that further gains in both scenarios may be realized via\\nfurther combining aspects of forests and networks. We will continue revising\\nthis technical report in the coming months with updated results.'\n",
    "predicted_categories = predict_category(new_abstract, loaded_model, loaded_text_vectorizer, invert_multi_hot)\n",
    "print(\"Predicted Categories:\", predicted_categories)"
   ]
  },
  {
   "cell_type": "code",
   "execution_count": 30,
   "id": "77b90c6e",
   "metadata": {},
   "outputs": [],
   "source": [
    "# great resutls..................................."
   ]
  },
  {
   "cell_type": "markdown",
   "id": "b5c90e37",
   "metadata": {},
   "source": [
    "# =======Section 2========"
   ]
  },
  {
   "cell_type": "markdown",
   "id": "cecfe2d1",
   "metadata": {},
   "source": [
    "## 2 Recommendation System"
   ]
  },
  {
   "cell_type": "code",
   "execution_count": 31,
   "id": "c94e6f2f",
   "metadata": {},
   "outputs": [],
   "source": [
    "arxiv_data.drop_duplicates(inplace= True)\n",
    "arxiv_data.reset_index(drop= True,inplace = True)"
   ]
  },
  {
   "cell_type": "code",
   "execution_count": 32,
   "id": "8ca5e456",
   "metadata": {},
   "outputs": [
    {
     "data": {
      "text/html": [
       "<div>\n",
       "<style scoped>\n",
       "    .dataframe tbody tr th:only-of-type {\n",
       "        vertical-align: middle;\n",
       "    }\n",
       "\n",
       "    .dataframe tbody tr th {\n",
       "        vertical-align: top;\n",
       "    }\n",
       "\n",
       "    .dataframe thead th {\n",
       "        text-align: right;\n",
       "    }\n",
       "</style>\n",
       "<table border=\"1\" class=\"dataframe\">\n",
       "  <thead>\n",
       "    <tr style=\"text-align: right;\">\n",
       "      <th></th>\n",
       "      <th>terms</th>\n",
       "      <th>titles</th>\n",
       "      <th>abstracts</th>\n",
       "    </tr>\n",
       "  </thead>\n",
       "  <tbody>\n",
       "    <tr>\n",
       "      <th>0</th>\n",
       "      <td>['cs.LG']</td>\n",
       "      <td>Multi-Level Attention Pooling for Graph Neural Networks: Unifying Graph Representations with Multiple Localities</td>\n",
       "      <td>Graph neural networks (GNNs) have been widely used to learn vector\\nrepresentation of graph-structured data and achieved better task performance\\nthan conventional methods. The foundation of GNNs is the message passing\\nprocedure, which propagates the information in a node to its neighbors. Since\\nthis procedure proceeds one step per layer, the range of the information\\npropagation among nodes is small in the lower layers, and it expands toward the\\nhigher layers. Therefore, a GNN model has to be deep enough to capture global\\nstructural information in a graph. On the other hand, it is known that deep GNN\\nmodels suffer from performance degradation because they lose nodes' local\\ninformation, which would be essential for good model performance, through many\\nmessage passing steps. In this study, we propose multi-level attention pooling\\n(MLAP) for graph-level classification tasks, which can adapt to both local and\\nglobal structural information in a graph. It has an attention pooling layer for\\neach message passing step and computes the final graph representation by\\nunifying the layer-wise graph representations. The MLAP architecture allows\\nmodels to utilize the structural information of graphs with multiple levels of\\nlocalities because it preserves layer-wise information before losing them due\\nto oversmoothing. Results of our experiments show that the MLAP architecture\\nimproves the graph classification performance compared to the baseline\\narchitectures. In addition, analyses on the layer-wise graph representations\\nsuggest that aggregating information from multiple levels of localities indeed\\nhas the potential to improve the discriminability of learned graph\\nrepresentations.</td>\n",
       "    </tr>\n",
       "    <tr>\n",
       "      <th>1</th>\n",
       "      <td>['cs.LG', 'cs.AI']</td>\n",
       "      <td>Decision Forests vs. Deep Networks: Conceptual Similarities and Empirical Differences at Small Sample Sizes</td>\n",
       "      <td>Deep networks and decision forests (such as random forests and gradient\\nboosted trees) are the leading machine learning methods for structured and\\ntabular data, respectively. Many papers have empirically compared large numbers\\nof classifiers on one or two different domains (e.g., on 100 different tabular\\ndata settings). However, a careful conceptual and empirical comparison of these\\ntwo strategies using the most contemporary best practices has yet to be\\nperformed. Conceptually, we illustrate that both can be profitably viewed as\\n\"partition and vote\" schemes. Specifically, the representation space that they\\nboth learn is a partitioning of feature space into a union of convex polytopes.\\nFor inference, each decides on the basis of votes from the activated nodes.\\nThis formulation allows for a unified basic understanding of the relationship\\nbetween these methods. Empirically, we compare these two strategies on hundreds\\nof tabular data settings, as well as several vision and auditory settings. Our\\nfocus is on datasets with at most 10,000 samples, which represent a large\\nfraction of scientific and biomedical datasets. In general, we found forests to\\nexcel at tabular and structured data (vision and audition) with small sample\\nsizes, whereas deep nets performed better on structured data with larger sample\\nsizes. This suggests that further gains in both scenarios may be realized via\\nfurther combining aspects of forests and networks. We will continue revising\\nthis technical report in the coming months with updated results.</td>\n",
       "    </tr>\n",
       "    <tr>\n",
       "      <th>2</th>\n",
       "      <td>['cs.LG', 'cs.CR', 'stat.ML']</td>\n",
       "      <td>Power up! Robust Graph Convolutional Network via Graph Powering</td>\n",
       "      <td>Graph convolutional networks (GCNs) are powerful tools for graph-structured\\ndata. However, they have been recently shown to be vulnerable to topological\\nattacks. To enhance adversarial robustness, we go beyond spectral graph theory\\nto robust graph theory. By challenging the classical graph Laplacian, we\\npropose a new convolution operator that is provably robust in the spectral\\ndomain and is incorporated in the GCN architecture to improve expressivity and\\ninterpretability. By extending the original graph to a sequence of graphs, we\\nalso propose a robust training paradigm that encourages transferability across\\ngraphs that span a range of spatial and spectral characteristics. The proposed\\napproaches are demonstrated in extensive experiments to simultaneously improve\\nperformance in both benign and adversarial situations.</td>\n",
       "    </tr>\n",
       "    <tr>\n",
       "      <th>3</th>\n",
       "      <td>['cs.LG', 'cs.CR']</td>\n",
       "      <td>Releasing Graph Neural Networks with Differential Privacy Guarantees</td>\n",
       "      <td>With the increasing popularity of Graph Neural Networks (GNNs) in several\\nsensitive applications like healthcare and medicine, concerns have been raised\\nover the privacy aspects of trained GNNs. More notably, GNNs are vulnerable to\\nprivacy attacks, such as membership inference attacks, even if only blackbox\\naccess to the trained model is granted. To build defenses, differential privacy\\nhas emerged as a mechanism to disguise the sensitive data in training datasets.\\nFollowing the strategy of Private Aggregation of Teacher Ensembles (PATE),\\nrecent methods leverage a large ensemble of teacher models. These teachers are\\ntrained on disjoint subsets of private data and are employed to transfer\\nknowledge to a student model, which is then released with privacy guarantees.\\nHowever, splitting graph data into many disjoint training sets may destroy the\\nstructural information and adversely affect accuracy. We propose a new\\ngraph-specific scheme of releasing a student GNN, which avoids splitting\\nprivate training data altogether. The student GNN is trained using public data,\\npartly labeled privately using the teacher GNN models trained exclusively for\\neach query node. We theoretically analyze our approach in the R\\`{e}nyi\\ndifferential privacy framework and provide privacy guarantees. Besides, we show\\nthe solid experimental performance of our method compared to several baselines,\\nincluding the PATE baseline adapted for graph-structured data. Our anonymized\\ncode is available.</td>\n",
       "    </tr>\n",
       "    <tr>\n",
       "      <th>4</th>\n",
       "      <td>['cs.LG']</td>\n",
       "      <td>Recurrence-Aware Long-Term Cognitive Network for Explainable Pattern Classification</td>\n",
       "      <td>Machine learning solutions for pattern classification problems are nowadays\\nwidely deployed in society and industry. However, the lack of transparency and\\naccountability of most accurate models often hinders their safe use. Thus,\\nthere is a clear need for developing explainable artificial intelligence\\nmechanisms. There exist model-agnostic methods that summarize feature\\ncontributions, but their interpretability is limited to predictions made by\\nblack-box models. An open challenge is to develop models that have intrinsic\\ninterpretability and produce their own explanations, even for classes of models\\nthat are traditionally considered black boxes like (recurrent) neural networks.\\nIn this paper, we propose a Long-Term Cognitive Network for interpretable\\npattern classification of structured data. Our method brings its own mechanism\\nfor providing explanations by quantifying the relevance of each feature in the\\ndecision process. For supporting the interpretability without affecting the\\nperformance, the model incorporates more flexibility through a quasi-nonlinear\\nreasoning rule that allows controlling nonlinearity. Besides, we propose a\\nrecurrence-aware decision model that evades the issues posed by unique fixed\\npoints while introducing a deterministic learning method to compute the tunable\\nparameters. The simulations show that our interpretable model obtains\\ncompetitive results when compared to the state-of-the-art white and black-box\\nmodels.</td>\n",
       "    </tr>\n",
       "    <tr>\n",
       "      <th>...</th>\n",
       "      <td>...</td>\n",
       "      <td>...</td>\n",
       "      <td>...</td>\n",
       "    </tr>\n",
       "    <tr>\n",
       "      <th>41100</th>\n",
       "      <td>['stat.ML']</td>\n",
       "      <td>An experimental study of graph-based semi-supervised classification with additional node information</td>\n",
       "      <td>The volume of data generated by internet and social networks is increasing\\nevery day, and there is a clear need for efficient ways of extracting useful\\ninformation from them. As those data can take different forms, it is important\\nto use all the available data representations for prediction.\\n  In this paper, we focus our attention on supervised classification using both\\nregular plain, tabular, data and structural information coming from a network\\nstructure. 14 techniques are investigated and compared in this study and can be\\ndivided in three classes: the first one uses only the plain data to build a\\nclassification model, the second uses only the graph structure and the last\\nuses both information sources. The relative performances in these three cases\\nare investigated. Furthermore, the effect of using a graph embedding and\\nwell-known indicators in spatial statistics is also studied.\\n  Possible applications are automatic classification of web pages or other\\nlinked documents, of people in a social network or of proteins in a biological\\ncomplex system, to name a few.\\n  Based on our comparison, we draw some general conclusions and advices to\\ntackle this particular classification task: some datasets can be better\\nexplained by their graph structure (graph-driven), or by their feature set\\n(features-driven). The most efficient methods are discussed in both cases.</td>\n",
       "    </tr>\n",
       "    <tr>\n",
       "      <th>41101</th>\n",
       "      <td>['stat.ML', 'cs.LG']</td>\n",
       "      <td>Bayesian Differential Privacy through Posterior Sampling</td>\n",
       "      <td>Differential privacy formalises privacy-preserving mechanisms that provide\\naccess to a database. We pose the question of whether Bayesian inference itself\\ncan be used directly to provide private access to data, with no modification.\\nThe answer is affirmative: under certain conditions on the prior, sampling from\\nthe posterior distribution can be used to achieve a desired level of privacy\\nand utility. To do so, we generalise differential privacy to arbitrary dataset\\nmetrics, outcome spaces and distribution families. This allows us to also deal\\nwith non-i.i.d or non-tabular datasets. We prove bounds on the sensitivity of\\nthe posterior to the data, which gives a measure of robustness. We also show\\nhow to use posterior sampling to provide differentially private responses to\\nqueries, within a decision-theoretic framework. Finally, we provide bounds on\\nthe utility and on the distinguishability of datasets. The latter are\\ncomplemented by a novel use of Le Cam's method to obtain lower bounds. All our\\ngeneral results hold for arbitrary database metrics, including those for the\\ncommon definition of differential privacy. For specific choices of the metric,\\nwe give a number of examples satisfying our assumptions.</td>\n",
       "    </tr>\n",
       "    <tr>\n",
       "      <th>41102</th>\n",
       "      <td>['cs.CV', 'cs.IR']</td>\n",
       "      <td>Mining Spatio-temporal Data on Industrialization from Historical Registries</td>\n",
       "      <td>Despite the growing availability of big data in many fields, historical data\\non socioevironmental phenomena are often not available due to a lack of\\nautomated and scalable approaches for collecting, digitizing, and assembling\\nthem. We have developed a data-mining method for extracting tabulated, geocoded\\ndata from printed directories. While scanning and optical character recognition\\n(OCR) can digitize printed text, these methods alone do not capture the\\nstructure of the underlying data. Our pipeline integrates both page layout\\nanalysis and OCR to extract tabular, geocoded data from structured text. We\\ndemonstrate the utility of this method by applying it to scanned manufacturing\\nregistries from Rhode Island that record 41 years of industrial land use. The\\nresulting spatio-temporal data can be used for socioenvironmental analyses of\\nindustrialization at a resolution that was not previously possible. In\\nparticular, we find strong evidence for the dispersion of manufacturing from\\nthe urban core of Providence, the state's capital, along the Interstate 95\\ncorridor to the north and south.</td>\n",
       "    </tr>\n",
       "    <tr>\n",
       "      <th>41103</th>\n",
       "      <td>['cs.LG', 'cs.AI', 'cs.CL', 'I.2.6; I.2.7']</td>\n",
       "      <td>Wav2Letter: an End-to-End ConvNet-based Speech Recognition System</td>\n",
       "      <td>This paper presents a simple end-to-end model for speech recognition,\\ncombining a convolutional network based acoustic model and a graph decoding. It\\nis trained to output letters, with transcribed speech, without the need for\\nforce alignment of phonemes. We introduce an automatic segmentation criterion\\nfor training from sequence annotation without alignment that is on par with CTC\\nwhile being simpler. We show competitive results in word error rate on the\\nLibrispeech corpus with MFCC features, and promising results from raw waveform.</td>\n",
       "    </tr>\n",
       "    <tr>\n",
       "      <th>41104</th>\n",
       "      <td>['stat.ML', 'cs.LG', 'math.OC']</td>\n",
       "      <td>Generalized Low Rank Models</td>\n",
       "      <td>Principal components analysis (PCA) is a well-known technique for\\napproximating a tabular data set by a low rank matrix. Here, we extend the idea\\nof PCA to handle arbitrary data sets consisting of numerical, Boolean,\\ncategorical, ordinal, and other data types. This framework encompasses many\\nwell known techniques in data analysis, such as nonnegative matrix\\nfactorization, matrix completion, sparse and robust PCA, $k$-means, $k$-SVD,\\nand maximum margin matrix factorization. The method handles heterogeneous data\\nsets, and leads to coherent schemes for compressing, denoising, and imputing\\nmissing entries across all data types simultaneously. It also admits a number\\nof interesting interpretations of the low rank factors, which allow clustering\\nof examples or of features. We propose several parallel algorithms for fitting\\ngeneralized low rank models, and describe implementations and numerical\\nresults.</td>\n",
       "    </tr>\n",
       "  </tbody>\n",
       "</table>\n",
       "<p>41105 rows × 3 columns</p>\n",
       "</div>"
      ],
      "text/plain": [
       "                                             terms  \\\n",
       "0                                        ['cs.LG']   \n",
       "1                               ['cs.LG', 'cs.AI']   \n",
       "2                    ['cs.LG', 'cs.CR', 'stat.ML']   \n",
       "3                               ['cs.LG', 'cs.CR']   \n",
       "4                                        ['cs.LG']   \n",
       "...                                            ...   \n",
       "41100                                  ['stat.ML']   \n",
       "41101                         ['stat.ML', 'cs.LG']   \n",
       "41102                           ['cs.CV', 'cs.IR']   \n",
       "41103  ['cs.LG', 'cs.AI', 'cs.CL', 'I.2.6; I.2.7']   \n",
       "41104              ['stat.ML', 'cs.LG', 'math.OC']   \n",
       "\n",
       "                                                                                                                 titles  \\\n",
       "0      Multi-Level Attention Pooling for Graph Neural Networks: Unifying Graph Representations with Multiple Localities   \n",
       "1           Decision Forests vs. Deep Networks: Conceptual Similarities and Empirical Differences at Small Sample Sizes   \n",
       "2                                                       Power up! Robust Graph Convolutional Network via Graph Powering   \n",
       "3                                                  Releasing Graph Neural Networks with Differential Privacy Guarantees   \n",
       "4                                   Recurrence-Aware Long-Term Cognitive Network for Explainable Pattern Classification   \n",
       "...                                                                                                                 ...   \n",
       "41100              An experimental study of graph-based semi-supervised classification with additional node information   \n",
       "41101                                                          Bayesian Differential Privacy through Posterior Sampling   \n",
       "41102                                       Mining Spatio-temporal Data on Industrialization from Historical Registries   \n",
       "41103                                                 Wav2Letter: an End-to-End ConvNet-based Speech Recognition System   \n",
       "41104                                                                                       Generalized Low Rank Models   \n",
       "\n",
       "                                                                                                                                                                                                                                                                                                                                                                                                                                                                                                                                                                                                                                                                                                                                                                                                                                                                                                                                                                                                                                                                                                                                                                                                                                                                                                                                                                                                                                                                                                                                                                                                                                                                                                                                                                              abstracts  \n",
       "0      Graph neural networks (GNNs) have been widely used to learn vector\\nrepresentation of graph-structured data and achieved better task performance\\nthan conventional methods. The foundation of GNNs is the message passing\\nprocedure, which propagates the information in a node to its neighbors. Since\\nthis procedure proceeds one step per layer, the range of the information\\npropagation among nodes is small in the lower layers, and it expands toward the\\nhigher layers. Therefore, a GNN model has to be deep enough to capture global\\nstructural information in a graph. On the other hand, it is known that deep GNN\\nmodels suffer from performance degradation because they lose nodes' local\\ninformation, which would be essential for good model performance, through many\\nmessage passing steps. In this study, we propose multi-level attention pooling\\n(MLAP) for graph-level classification tasks, which can adapt to both local and\\nglobal structural information in a graph. It has an attention pooling layer for\\neach message passing step and computes the final graph representation by\\nunifying the layer-wise graph representations. The MLAP architecture allows\\nmodels to utilize the structural information of graphs with multiple levels of\\nlocalities because it preserves layer-wise information before losing them due\\nto oversmoothing. Results of our experiments show that the MLAP architecture\\nimproves the graph classification performance compared to the baseline\\narchitectures. In addition, analyses on the layer-wise graph representations\\nsuggest that aggregating information from multiple levels of localities indeed\\nhas the potential to improve the discriminability of learned graph\\nrepresentations.  \n",
       "1                                                                                                                                                                  Deep networks and decision forests (such as random forests and gradient\\nboosted trees) are the leading machine learning methods for structured and\\ntabular data, respectively. Many papers have empirically compared large numbers\\nof classifiers on one or two different domains (e.g., on 100 different tabular\\ndata settings). However, a careful conceptual and empirical comparison of these\\ntwo strategies using the most contemporary best practices has yet to be\\nperformed. Conceptually, we illustrate that both can be profitably viewed as\\n\"partition and vote\" schemes. Specifically, the representation space that they\\nboth learn is a partitioning of feature space into a union of convex polytopes.\\nFor inference, each decides on the basis of votes from the activated nodes.\\nThis formulation allows for a unified basic understanding of the relationship\\nbetween these methods. Empirically, we compare these two strategies on hundreds\\nof tabular data settings, as well as several vision and auditory settings. Our\\nfocus is on datasets with at most 10,000 samples, which represent a large\\nfraction of scientific and biomedical datasets. In general, we found forests to\\nexcel at tabular and structured data (vision and audition) with small sample\\nsizes, whereas deep nets performed better on structured data with larger sample\\nsizes. This suggests that further gains in both scenarios may be realized via\\nfurther combining aspects of forests and networks. We will continue revising\\nthis technical report in the coming months with updated results.  \n",
       "2                                                                                                                                                                                                                                                                                                                                                                                                                                                                                                                                                                                                                                                                                                                                                                                                                                                                                                                Graph convolutional networks (GCNs) are powerful tools for graph-structured\\ndata. However, they have been recently shown to be vulnerable to topological\\nattacks. To enhance adversarial robustness, we go beyond spectral graph theory\\nto robust graph theory. By challenging the classical graph Laplacian, we\\npropose a new convolution operator that is provably robust in the spectral\\ndomain and is incorporated in the GCN architecture to improve expressivity and\\ninterpretability. By extending the original graph to a sequence of graphs, we\\nalso propose a robust training paradigm that encourages transferability across\\ngraphs that span a range of spatial and spectral characteristics. The proposed\\napproaches are demonstrated in extensive experiments to simultaneously improve\\nperformance in both benign and adversarial situations.  \n",
       "3                                                                                                                                                                                                                        With the increasing popularity of Graph Neural Networks (GNNs) in several\\nsensitive applications like healthcare and medicine, concerns have been raised\\nover the privacy aspects of trained GNNs. More notably, GNNs are vulnerable to\\nprivacy attacks, such as membership inference attacks, even if only blackbox\\naccess to the trained model is granted. To build defenses, differential privacy\\nhas emerged as a mechanism to disguise the sensitive data in training datasets.\\nFollowing the strategy of Private Aggregation of Teacher Ensembles (PATE),\\nrecent methods leverage a large ensemble of teacher models. These teachers are\\ntrained on disjoint subsets of private data and are employed to transfer\\nknowledge to a student model, which is then released with privacy guarantees.\\nHowever, splitting graph data into many disjoint training sets may destroy the\\nstructural information and adversely affect accuracy. We propose a new\\ngraph-specific scheme of releasing a student GNN, which avoids splitting\\nprivate training data altogether. The student GNN is trained using public data,\\npartly labeled privately using the teacher GNN models trained exclusively for\\neach query node. We theoretically analyze our approach in the R\\`{e}nyi\\ndifferential privacy framework and provide privacy guarantees. Besides, we show\\nthe solid experimental performance of our method compared to several baselines,\\nincluding the PATE baseline adapted for graph-structured data. Our anonymized\\ncode is available.  \n",
       "4                                                                                                                                                                                                                                               Machine learning solutions for pattern classification problems are nowadays\\nwidely deployed in society and industry. However, the lack of transparency and\\naccountability of most accurate models often hinders their safe use. Thus,\\nthere is a clear need for developing explainable artificial intelligence\\nmechanisms. There exist model-agnostic methods that summarize feature\\ncontributions, but their interpretability is limited to predictions made by\\nblack-box models. An open challenge is to develop models that have intrinsic\\ninterpretability and produce their own explanations, even for classes of models\\nthat are traditionally considered black boxes like (recurrent) neural networks.\\nIn this paper, we propose a Long-Term Cognitive Network for interpretable\\npattern classification of structured data. Our method brings its own mechanism\\nfor providing explanations by quantifying the relevance of each feature in the\\ndecision process. For supporting the interpretability without affecting the\\nperformance, the model incorporates more flexibility through a quasi-nonlinear\\nreasoning rule that allows controlling nonlinearity. Besides, we propose a\\nrecurrence-aware decision model that evades the issues posed by unique fixed\\npoints while introducing a deterministic learning method to compute the tunable\\nparameters. The simulations show that our interpretable model obtains\\ncompetitive results when compared to the state-of-the-art white and black-box\\nmodels.  \n",
       "...                                                                                                                                                                                                                                                                                                                                                                                                                                                                                                                                                                                                                                                                                                                                                                                                                                                                                                                                                                                                                                                                                                                                                                                                                                                                                                                                                                                                                                                                                                                                                                                                                                                                                                                                                                                 ...  \n",
       "41100                                                                                                                                                                                                                                                                                                                                The volume of data generated by internet and social networks is increasing\\nevery day, and there is a clear need for efficient ways of extracting useful\\ninformation from them. As those data can take different forms, it is important\\nto use all the available data representations for prediction.\\n  In this paper, we focus our attention on supervised classification using both\\nregular plain, tabular, data and structural information coming from a network\\nstructure. 14 techniques are investigated and compared in this study and can be\\ndivided in three classes: the first one uses only the plain data to build a\\nclassification model, the second uses only the graph structure and the last\\nuses both information sources. The relative performances in these three cases\\nare investigated. Furthermore, the effect of using a graph embedding and\\nwell-known indicators in spatial statistics is also studied.\\n  Possible applications are automatic classification of web pages or other\\nlinked documents, of people in a social network or of proteins in a biological\\ncomplex system, to name a few.\\n  Based on our comparison, we draw some general conclusions and advices to\\ntackle this particular classification task: some datasets can be better\\nexplained by their graph structure (graph-driven), or by their feature set\\n(features-driven). The most efficient methods are discussed in both cases.  \n",
       "41101                                                                                                                                                                                                                                                                                                                                                                                                                                                                                                Differential privacy formalises privacy-preserving mechanisms that provide\\naccess to a database. We pose the question of whether Bayesian inference itself\\ncan be used directly to provide private access to data, with no modification.\\nThe answer is affirmative: under certain conditions on the prior, sampling from\\nthe posterior distribution can be used to achieve a desired level of privacy\\nand utility. To do so, we generalise differential privacy to arbitrary dataset\\nmetrics, outcome spaces and distribution families. This allows us to also deal\\nwith non-i.i.d or non-tabular datasets. We prove bounds on the sensitivity of\\nthe posterior to the data, which gives a measure of robustness. We also show\\nhow to use posterior sampling to provide differentially private responses to\\nqueries, within a decision-theoretic framework. Finally, we provide bounds on\\nthe utility and on the distinguishability of datasets. The latter are\\ncomplemented by a novel use of Le Cam's method to obtain lower bounds. All our\\ngeneral results hold for arbitrary database metrics, including those for the\\ncommon definition of differential privacy. For specific choices of the metric,\\nwe give a number of examples satisfying our assumptions.  \n",
       "41102                                                                                                                                                                                                                                                                                                                                                                                                                                                                                                                                                                                                                         Despite the growing availability of big data in many fields, historical data\\non socioevironmental phenomena are often not available due to a lack of\\nautomated and scalable approaches for collecting, digitizing, and assembling\\nthem. We have developed a data-mining method for extracting tabulated, geocoded\\ndata from printed directories. While scanning and optical character recognition\\n(OCR) can digitize printed text, these methods alone do not capture the\\nstructure of the underlying data. Our pipeline integrates both page layout\\nanalysis and OCR to extract tabular, geocoded data from structured text. We\\ndemonstrate the utility of this method by applying it to scanned manufacturing\\nregistries from Rhode Island that record 41 years of industrial land use. The\\nresulting spatio-temporal data can be used for socioenvironmental analyses of\\nindustrialization at a resolution that was not previously possible. In\\nparticular, we find strong evidence for the dispersion of manufacturing from\\nthe urban core of Providence, the state's capital, along the Interstate 95\\ncorridor to the north and south.  \n",
       "41103                                                                                                                                                                                                                                                                                                                                                                                                                                                                                                                                                                                                                                                                                                                                                                                                                                                                                                                                                                                                                                                                                                                                                                                                                  This paper presents a simple end-to-end model for speech recognition,\\ncombining a convolutional network based acoustic model and a graph decoding. It\\nis trained to output letters, with transcribed speech, without the need for\\nforce alignment of phonemes. We introduce an automatic segmentation criterion\\nfor training from sequence annotation without alignment that is on par with CTC\\nwhile being simpler. We show competitive results in word error rate on the\\nLibrispeech corpus with MFCC features, and promising results from raw waveform.  \n",
       "41104                                                                                                                                                                                                                                                                                                                                                                                                                                                                                                                                                                                                                                                                                                                                                                                                                         Principal components analysis (PCA) is a well-known technique for\\napproximating a tabular data set by a low rank matrix. Here, we extend the idea\\nof PCA to handle arbitrary data sets consisting of numerical, Boolean,\\ncategorical, ordinal, and other data types. This framework encompasses many\\nwell known techniques in data analysis, such as nonnegative matrix\\nfactorization, matrix completion, sparse and robust PCA, $k$-means, $k$-SVD,\\nand maximum margin matrix factorization. The method handles heterogeneous data\\nsets, and leads to coherent schemes for compressing, denoising, and imputing\\nmissing entries across all data types simultaneously. It also admits a number\\nof interesting interpretations of the low rank factors, which allow clustering\\nof examples or of features. We propose several parallel algorithms for fitting\\ngeneralized low rank models, and describe implementations and numerical\\nresults.  \n",
       "\n",
       "[41105 rows x 3 columns]"
      ]
     },
     "execution_count": 32,
     "metadata": {},
     "output_type": "execute_result"
    }
   ],
   "source": [
    "pd.set_option('display.max_colwidth', None)\n",
    "arxiv_data"
   ]
  },
  {
   "cell_type": "markdown",
   "id": "95b71915",
   "metadata": {},
   "source": [
    "## Sentence Transformers"
   ]
  },
  {
   "cell_type": "code",
   "execution_count": 33,
   "id": "5712474f",
   "metadata": {},
   "outputs": [],
   "source": [
    "# !pip install -U -q sentence-transformers"
   ]
  },
  {
   "cell_type": "code",
   "execution_count": 34,
   "id": "ce14f694",
   "metadata": {},
   "outputs": [],
   "source": [
    "from sentence_transformers import SentenceTransformer, util"
   ]
  },
  {
   "cell_type": "code",
   "execution_count": 35,
   "id": "514a5734",
   "metadata": {},
   "outputs": [
    {
     "name": "stderr",
     "output_type": "stream",
     "text": [
      "c:\\Users\\AmiMistry\\anaconda3\\Lib\\site-packages\\huggingface_hub\\file_download.py:1132: FutureWarning: `resume_download` is deprecated and will be removed in version 1.0.0. Downloads always resume when possible. If you want to force a new download, use `force_download=True`.\n",
      "  warnings.warn(\n"
     ]
    },
    {
     "data": {
      "text/plain": [
       "'\\nThe embeddings can be used for various natural language processing (NLP) tasks, \\nsuch as similarity search, clustering\\n'"
      ]
     },
     "execution_count": 35,
     "metadata": {},
     "output_type": "execute_result"
    }
   ],
   "source": [
    "# This imports the SentenceTransformer class from the Sentence Transformers library.\n",
    "from sentence_transformers import SentenceTransformer, util\n",
    "# we load all-MiniLM-L6-v2, which is a MiniLM model fine tuned on a large dataset of over \n",
    "# 1 billion training pairs.\n",
    "#This initializes the 'all-MiniLM-L6-v2' model from Sentence Transformers. \n",
    "# This model is capable of encoding sentences into fixed-size vectors (embeddings).\n",
    "model = SentenceTransformer('all-MiniLM-L6-v2')\n",
    "#Our sentences we like to encode\n",
    "sentences = arxiv_data['titles']\n",
    "#Sentences are encoded by calling model.encode()\n",
    "embeddings = model.encode(sentences)\n",
    "\n",
    "\"\"\"\n",
    "The embeddings can be used for various natural language processing (NLP) tasks, \n",
    "such as similarity search, clustering\n",
    "\"\"\""
   ]
  },
  {
   "cell_type": "code",
   "execution_count": 36,
   "id": "c502c4e0",
   "metadata": {},
   "outputs": [
    {
     "data": {
      "text/plain": [
       "array([[ 0.06643408, -0.049546  ,  0.06388088, ...,  0.001063  ,\n",
       "        -0.12156384, -0.06962776],\n",
       "       [ 0.09212258, -0.07606939,  0.06572871, ..., -0.08565163,\n",
       "        -0.09266548,  0.00725296],\n",
       "       [-0.0816268 ,  0.02428928,  0.01888745, ...,  0.0080616 ,\n",
       "        -0.0512953 , -0.05873991],\n",
       "       ...,\n",
       "       [ 0.01227985, -0.08568835, -0.02782775, ..., -0.05257969,\n",
       "        -0.10806689,  0.07843314],\n",
       "       [-0.07258201, -0.12690918, -0.00535555, ...,  0.03597698,\n",
       "        -0.03986151, -0.0597103 ],\n",
       "       [ 0.0076887 , -0.10124177,  0.08909855, ..., -0.0819987 ,\n",
       "        -0.05649741,  0.09007055]], dtype=float32)"
      ]
     },
     "execution_count": 36,
     "metadata": {},
     "output_type": "execute_result"
    }
   ],
   "source": [
    "embeddings"
   ]
  },
  {
   "cell_type": "markdown",
   "id": "db125c7d",
   "metadata": {},
   "source": [
    "## Why select all-MiniLM-L6-v2?\n",
    "\n",
    "All-round model tuned for many use-cases. Trained on a large and diverse dataset of over 1 billion training pairs. Source\n",
    "\n",
    "Its small in size 80 MB with good performance."
   ]
  },
  {
   "cell_type": "markdown",
   "id": "355ffc70",
   "metadata": {},
   "source": [
    "## Print the embeddings"
   ]
  },
  {
   "cell_type": "code",
   "execution_count": 37,
   "id": "0af0618d",
   "metadata": {},
   "outputs": [
    {
     "name": "stdout",
     "output_type": "stream",
     "text": [
      "Sentence: Multi-Level Attention Pooling for Graph Neural Networks: Unifying Graph Representations with Multiple Localities\n",
      "Embedding length: 384\n",
      "\n",
      "Sentence: Decision Forests vs. Deep Networks: Conceptual Similarities and Empirical Differences at Small Sample Sizes\n",
      "Embedding length: 384\n",
      "\n",
      "Sentence: Power up! Robust Graph Convolutional Network via Graph Powering\n",
      "Embedding length: 384\n",
      "\n",
      "Sentence: Releasing Graph Neural Networks with Differential Privacy Guarantees\n",
      "Embedding length: 384\n",
      "\n",
      "Sentence: Recurrence-Aware Long-Term Cognitive Network for Explainable Pattern Classification\n",
      "Embedding length: 384\n",
      "\n",
      "Sentence: Lifelong Graph Learning\n",
      "Embedding length: 384\n",
      "\n"
     ]
    }
   ],
   "source": [
    "c = 0\n",
    "#This loop iterates over pairs of sentences and their corresponding embeddings. \n",
    "#zip is used to iterate over both lists simultaneously.\n",
    "for sentence, embedding in zip(sentences, embeddings):\n",
    "    print(\"Sentence:\", sentence)\n",
    "    print(\"Embedding length:\", len(embedding)) # list of floats\n",
    "    print(\"\")\n",
    "    # Breaks out of the loop after printing information for the first 5 sentences.\n",
    "    if c >=5:\n",
    "        break\n",
    "    c +=1 "
   ]
  },
  {
   "cell_type": "markdown",
   "id": "f5cdb484",
   "metadata": {},
   "source": [
    "## Save files"
   ]
  },
  {
   "cell_type": "code",
   "execution_count": 38,
   "id": "a802f9f1",
   "metadata": {},
   "outputs": [],
   "source": [
    "import pickle\n",
    "# Saving sentences and corresponding embeddings\n",
    "with open('embeddings.pkl', 'wb') as f:\n",
    "    pickle.dump(embeddings, f)\n",
    "\n",
    "with open('sentences.pkl', 'wb') as f:\n",
    "    pickle.dump(sentences, f)\n",
    "    \n",
    "with open('rec_model.pkl', 'wb') as f:\n",
    "    pickle.dump(model, f)"
   ]
  },
  {
   "cell_type": "markdown",
   "id": "1dcea57f",
   "metadata": {},
   "source": [
    "## Recommendation for similar papers"
   ]
  },
  {
   "cell_type": "code",
   "execution_count": 39,
   "id": "dcb1a450",
   "metadata": {},
   "outputs": [],
   "source": [
    "# load save files\n",
    "embeddings = pickle.load(open('embeddings.pkl','rb'))\n",
    "sentences = pickle.load(open('sentences.pkl','rb'))\n",
    "rec_model = pickle.load(open('rec_model.pkl','rb'))"
   ]
  },
  {
   "cell_type": "code",
   "execution_count": 40,
   "id": "84ffe218",
   "metadata": {},
   "outputs": [],
   "source": [
    "import torch\n",
    "\n",
    "def recommendation(input_paper):\n",
    "    # Calculate cosine similarity scores between the embeddings of input_paper and all papers in the dataset.\n",
    "    cosine_scores = util.cos_sim(embeddings, rec_model.encode(input_paper))\n",
    "    \n",
    "    # Get the indices of the top-k most similar papers based on cosine similarity.\n",
    "    top_similar_papers = torch.topk(cosine_scores, dim=0, k=5, sorted=True)\n",
    "                                 \n",
    "    # Retrieve the titles of the top similar papers.\n",
    "    papers_list = []\n",
    "    for i in top_similar_papers.indices:\n",
    "        papers_list.append(sentences[i.item()])\n",
    "    \n",
    "    return papers_list\n"
   ]
  },
  {
   "cell_type": "code",
   "execution_count": 41,
   "id": "12c90388",
   "metadata": {},
   "outputs": [
    {
     "name": "stdout",
     "output_type": "stream",
     "text": [
      "We recommend to read this paper............\n",
      "=============================================\n",
      "Attention that does not Explain Away\n",
      "Area Attention\n",
      "Pay Attention when Required\n",
      "Long Short-Term Attention\n",
      "Attention as Activation\n"
     ]
    }
   ],
   "source": [
    "# exampel usage 1: (use this paper as input (\\Attention is all you need))\n",
    "input_paper = input(\"Enter the title of any paper you like\")\n",
    "recommend_papers = recommendation(input_paper)\n",
    "\n",
    "\n",
    "print(\"We recommend to read this paper............\")\n",
    "print(\"=============================================\")\n",
    "for paper in recommend_papers:\n",
    "    print(paper)"
   ]
  },
  {
   "cell_type": "code",
   "execution_count": 42,
   "id": "92d70ed0",
   "metadata": {},
   "outputs": [
    {
     "name": "stdout",
     "output_type": "stream",
     "text": [
      "We recommend to read this paper............\n",
      "=============================================\n",
      "BEiT: BERT Pre-Training of Image Transformers\n",
      "VL-BERT: Pre-training of Generic Visual-Linguistic Representations\n",
      "Sketch-BERT: Learning Sketch Bidirectional Encoder Representation from Transformers by Self-supervised Learning of Sketch Gestalt\n",
      "Seeing Out of tHe bOx: End-to-End Pre-training for Vision-Language Representation Learning\n",
      "Accelerating Training of Transformer-Based Language Models with Progressive Layer Dropping\n"
     ]
    }
   ],
   "source": [
    "# exampel usage 2: (use this paper as input (BERT: Pre-training of Deep Bidirectional Transformers for Language Understanding))\n",
    "input_paper = input(\"Enter the title of any paper you like\")\n",
    "recommend_papers = recommendation(input_paper)\n",
    "\n",
    "\n",
    "print(\"We recommend to read this paper............\")\n",
    "print(\"=============================================\")\n",
    "for paper in recommend_papers:\n",
    "    print(paper)"
   ]
  },
  {
   "cell_type": "code",
   "execution_count": 45,
   "id": "fe398bb9",
   "metadata": {},
   "outputs": [
    {
     "name": "stdout",
     "output_type": "stream",
     "text": [
      "We recommend to read this paper............\n",
      "=============================================\n",
      "A Review of Deep Learning with Special Emphasis on Architectures, Applications and Recent Trends\n",
      "Review of Deep Learning\n",
      "Deep Convolutional Neural Networks: A survey of the foundations, selected improvements, and some current applications\n",
      "A Survey of the Recent Architectures of Deep Convolutional Neural Networks\n",
      "A Survey of Convolutional Neural Networks: Analysis, Applications, and Prospects\n"
     ]
    }
   ],
   "source": [
    "# exampel usage 3: (use this paper as input (Review of deep learning: concepts, CNN architectures, challenges, applications, future directions))\n",
    "input_paper = input(\"Enter the title of any paper you like\")\n",
    "recommend_papers = recommendation(input_paper)\n",
    "\n",
    "\n",
    "print(\"We recommend to read this paper............\")\n",
    "print(\"=============================================\")\n",
    "\n",
    "for paper in recommend_papers:\n",
    "    print(paper)"
   ]
  },
  {
   "cell_type": "code",
   "execution_count": 44,
   "id": "026a1eb1",
   "metadata": {},
   "outputs": [
    {
     "name": "stdout",
     "output_type": "stream",
     "text": [
      "2.0.1+cpu\n",
      "2.7.0\n",
      "2.15.0\n"
     ]
    }
   ],
   "source": [
    "# install this versions\n",
    "import sentence_transformers\n",
    "import tensorflow\n",
    "import torch\n",
    "print(torch.__version__)\n",
    "print(sentence_transformers.__version__)\n",
    "print(tensorflow.__version__)"
   ]
  },
  {
   "cell_type": "code",
   "execution_count": null,
   "id": "813491da",
   "metadata": {},
   "outputs": [],
   "source": []
  }
 ],
 "metadata": {
  "kernelspec": {
   "display_name": "Python 3 (ipykernel)",
   "language": "python",
   "name": "python3"
  },
  "language_info": {
   "codemirror_mode": {
    "name": "ipython",
    "version": 3
   },
   "file_extension": ".py",
   "mimetype": "text/x-python",
   "name": "python",
   "nbconvert_exporter": "python",
   "pygments_lexer": "ipython3",
   "version": "3.11.5"
  }
 },
 "nbformat": 4,
 "nbformat_minor": 5
}
